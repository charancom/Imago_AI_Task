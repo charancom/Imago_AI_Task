{
 "cells": [
  {
   "cell_type": "code",
   "id": "initial_id",
   "metadata": {
    "collapsed": true,
    "ExecuteTime": {
     "end_time": "2025-03-14T05:39:37.714136Z",
     "start_time": "2025-03-14T05:39:37.665777Z"
    }
   },
   "source": [
    "import pandas as pd\n",
    "df_1 = pd.read_csv(\"Datasets/TASK-ML-INTERN.csv\")\n",
    "df_1"
   ],
   "outputs": [
    {
     "data": {
      "text/plain": [
       "               hsi_id         0         1         2         3         4  \\\n",
       "0      imagoai_corn_0  0.416181  0.396844  0.408985  0.372865  0.385293   \n",
       "1      imagoai_corn_1  0.415797  0.402956  0.402564  0.396014  0.397192   \n",
       "2      imagoai_corn_2  0.389023  0.371206  0.373098  0.373872  0.361056   \n",
       "3      imagoai_corn_3  0.468837  0.473255  0.462949  0.459335  0.461672   \n",
       "4      imagoai_corn_4  0.483352  0.487274  0.469153  0.487648  0.464026   \n",
       "..                ...       ...       ...       ...       ...       ...   \n",
       "495  imagoai_corn_495  0.478140  0.444033  0.442120  0.437473  0.428672   \n",
       "496  imagoai_corn_496  0.409367  0.394941  0.380236  0.375340  0.346122   \n",
       "497  imagoai_corn_497  0.486526  0.501372  0.500175  0.508139  0.489411   \n",
       "498  imagoai_corn_498  0.464595  0.498822  0.489077  0.453381  0.487636   \n",
       "499  imagoai_corn_499  0.460840  0.457656  0.434632  0.412675  0.418638   \n",
       "\n",
       "            5         6         7         8  ...       439       440  \\\n",
       "0    0.365390  0.355226  0.343350  0.344837  ...  0.710280  0.717482   \n",
       "1    0.389634  0.375671  0.363689  0.373883  ...  0.684011  0.697271   \n",
       "2    0.349709  0.333882  0.330841  0.328925  ...  0.683054  0.669286   \n",
       "3    0.459824  0.458194  0.427737  0.415360  ...  0.742782  0.730801   \n",
       "4    0.451152  0.458229  0.440782  0.426193  ...  0.770227  0.773013   \n",
       "..        ...       ...       ...       ...  ...       ...       ...   \n",
       "495  0.413238  0.417758  0.420388  0.413290  ...  0.747858  0.730535   \n",
       "496  0.354650  0.361170  0.342974  0.352137  ...  0.670232  0.659045   \n",
       "497  0.457311  0.462321  0.462927  0.442647  ...  0.787532  0.780347   \n",
       "498  0.461950  0.461671  0.447362  0.451952  ...  0.739432  0.759722   \n",
       "499  0.408338  0.403807  0.388811  0.382484  ...  0.717509  0.726149   \n",
       "\n",
       "          441       442       443       444       445       446       447  \\\n",
       "0    0.715078  0.705379  0.696691  0.692793  0.711369  0.697679  0.704520   \n",
       "1    0.701995  0.696077  0.701012  0.677418  0.696921  0.696544  0.689054   \n",
       "2    0.663179  0.676165  0.676591  0.655951  0.658945  0.670989  0.665176   \n",
       "3    0.736787  0.730044  0.751437  0.738497  0.742446  0.754657  0.733474   \n",
       "4    0.761431  0.763488  0.762473  0.744012  0.775486  0.760431  0.751988   \n",
       "..        ...       ...       ...       ...       ...       ...       ...   \n",
       "495  0.716969  0.739297  0.724827  0.720484  0.740626  0.740116  0.721839   \n",
       "496  0.661587  0.658422  0.644254  0.646479  0.656779  0.646700  0.646733   \n",
       "497  0.768362  0.771411  0.770919  0.761464  0.770314  0.763324  0.797187   \n",
       "498  0.752118  0.761910  0.761111  0.730431  0.753545  0.749619  0.756383   \n",
       "499  0.728631  0.725808  0.716943  0.718320  0.707611  0.729484  0.718706   \n",
       "\n",
       "     vomitoxin_ppb  \n",
       "0           1100.0  \n",
       "1           1000.0  \n",
       "2           1300.0  \n",
       "3           1300.0  \n",
       "4            220.0  \n",
       "..             ...  \n",
       "495         1200.0  \n",
       "496            0.0  \n",
       "497            0.0  \n",
       "498            0.0  \n",
       "499         1400.0  \n",
       "\n",
       "[500 rows x 450 columns]"
      ],
      "text/html": [
       "<div>\n",
       "<style scoped>\n",
       "    .dataframe tbody tr th:only-of-type {\n",
       "        vertical-align: middle;\n",
       "    }\n",
       "\n",
       "    .dataframe tbody tr th {\n",
       "        vertical-align: top;\n",
       "    }\n",
       "\n",
       "    .dataframe thead th {\n",
       "        text-align: right;\n",
       "    }\n",
       "</style>\n",
       "<table border=\"1\" class=\"dataframe\">\n",
       "  <thead>\n",
       "    <tr style=\"text-align: right;\">\n",
       "      <th></th>\n",
       "      <th>hsi_id</th>\n",
       "      <th>0</th>\n",
       "      <th>1</th>\n",
       "      <th>2</th>\n",
       "      <th>3</th>\n",
       "      <th>4</th>\n",
       "      <th>5</th>\n",
       "      <th>6</th>\n",
       "      <th>7</th>\n",
       "      <th>8</th>\n",
       "      <th>...</th>\n",
       "      <th>439</th>\n",
       "      <th>440</th>\n",
       "      <th>441</th>\n",
       "      <th>442</th>\n",
       "      <th>443</th>\n",
       "      <th>444</th>\n",
       "      <th>445</th>\n",
       "      <th>446</th>\n",
       "      <th>447</th>\n",
       "      <th>vomitoxin_ppb</th>\n",
       "    </tr>\n",
       "  </thead>\n",
       "  <tbody>\n",
       "    <tr>\n",
       "      <th>0</th>\n",
       "      <td>imagoai_corn_0</td>\n",
       "      <td>0.416181</td>\n",
       "      <td>0.396844</td>\n",
       "      <td>0.408985</td>\n",
       "      <td>0.372865</td>\n",
       "      <td>0.385293</td>\n",
       "      <td>0.365390</td>\n",
       "      <td>0.355226</td>\n",
       "      <td>0.343350</td>\n",
       "      <td>0.344837</td>\n",
       "      <td>...</td>\n",
       "      <td>0.710280</td>\n",
       "      <td>0.717482</td>\n",
       "      <td>0.715078</td>\n",
       "      <td>0.705379</td>\n",
       "      <td>0.696691</td>\n",
       "      <td>0.692793</td>\n",
       "      <td>0.711369</td>\n",
       "      <td>0.697679</td>\n",
       "      <td>0.704520</td>\n",
       "      <td>1100.0</td>\n",
       "    </tr>\n",
       "    <tr>\n",
       "      <th>1</th>\n",
       "      <td>imagoai_corn_1</td>\n",
       "      <td>0.415797</td>\n",
       "      <td>0.402956</td>\n",
       "      <td>0.402564</td>\n",
       "      <td>0.396014</td>\n",
       "      <td>0.397192</td>\n",
       "      <td>0.389634</td>\n",
       "      <td>0.375671</td>\n",
       "      <td>0.363689</td>\n",
       "      <td>0.373883</td>\n",
       "      <td>...</td>\n",
       "      <td>0.684011</td>\n",
       "      <td>0.697271</td>\n",
       "      <td>0.701995</td>\n",
       "      <td>0.696077</td>\n",
       "      <td>0.701012</td>\n",
       "      <td>0.677418</td>\n",
       "      <td>0.696921</td>\n",
       "      <td>0.696544</td>\n",
       "      <td>0.689054</td>\n",
       "      <td>1000.0</td>\n",
       "    </tr>\n",
       "    <tr>\n",
       "      <th>2</th>\n",
       "      <td>imagoai_corn_2</td>\n",
       "      <td>0.389023</td>\n",
       "      <td>0.371206</td>\n",
       "      <td>0.373098</td>\n",
       "      <td>0.373872</td>\n",
       "      <td>0.361056</td>\n",
       "      <td>0.349709</td>\n",
       "      <td>0.333882</td>\n",
       "      <td>0.330841</td>\n",
       "      <td>0.328925</td>\n",
       "      <td>...</td>\n",
       "      <td>0.683054</td>\n",
       "      <td>0.669286</td>\n",
       "      <td>0.663179</td>\n",
       "      <td>0.676165</td>\n",
       "      <td>0.676591</td>\n",
       "      <td>0.655951</td>\n",
       "      <td>0.658945</td>\n",
       "      <td>0.670989</td>\n",
       "      <td>0.665176</td>\n",
       "      <td>1300.0</td>\n",
       "    </tr>\n",
       "    <tr>\n",
       "      <th>3</th>\n",
       "      <td>imagoai_corn_3</td>\n",
       "      <td>0.468837</td>\n",
       "      <td>0.473255</td>\n",
       "      <td>0.462949</td>\n",
       "      <td>0.459335</td>\n",
       "      <td>0.461672</td>\n",
       "      <td>0.459824</td>\n",
       "      <td>0.458194</td>\n",
       "      <td>0.427737</td>\n",
       "      <td>0.415360</td>\n",
       "      <td>...</td>\n",
       "      <td>0.742782</td>\n",
       "      <td>0.730801</td>\n",
       "      <td>0.736787</td>\n",
       "      <td>0.730044</td>\n",
       "      <td>0.751437</td>\n",
       "      <td>0.738497</td>\n",
       "      <td>0.742446</td>\n",
       "      <td>0.754657</td>\n",
       "      <td>0.733474</td>\n",
       "      <td>1300.0</td>\n",
       "    </tr>\n",
       "    <tr>\n",
       "      <th>4</th>\n",
       "      <td>imagoai_corn_4</td>\n",
       "      <td>0.483352</td>\n",
       "      <td>0.487274</td>\n",
       "      <td>0.469153</td>\n",
       "      <td>0.487648</td>\n",
       "      <td>0.464026</td>\n",
       "      <td>0.451152</td>\n",
       "      <td>0.458229</td>\n",
       "      <td>0.440782</td>\n",
       "      <td>0.426193</td>\n",
       "      <td>...</td>\n",
       "      <td>0.770227</td>\n",
       "      <td>0.773013</td>\n",
       "      <td>0.761431</td>\n",
       "      <td>0.763488</td>\n",
       "      <td>0.762473</td>\n",
       "      <td>0.744012</td>\n",
       "      <td>0.775486</td>\n",
       "      <td>0.760431</td>\n",
       "      <td>0.751988</td>\n",
       "      <td>220.0</td>\n",
       "    </tr>\n",
       "    <tr>\n",
       "      <th>...</th>\n",
       "      <td>...</td>\n",
       "      <td>...</td>\n",
       "      <td>...</td>\n",
       "      <td>...</td>\n",
       "      <td>...</td>\n",
       "      <td>...</td>\n",
       "      <td>...</td>\n",
       "      <td>...</td>\n",
       "      <td>...</td>\n",
       "      <td>...</td>\n",
       "      <td>...</td>\n",
       "      <td>...</td>\n",
       "      <td>...</td>\n",
       "      <td>...</td>\n",
       "      <td>...</td>\n",
       "      <td>...</td>\n",
       "      <td>...</td>\n",
       "      <td>...</td>\n",
       "      <td>...</td>\n",
       "      <td>...</td>\n",
       "      <td>...</td>\n",
       "    </tr>\n",
       "    <tr>\n",
       "      <th>495</th>\n",
       "      <td>imagoai_corn_495</td>\n",
       "      <td>0.478140</td>\n",
       "      <td>0.444033</td>\n",
       "      <td>0.442120</td>\n",
       "      <td>0.437473</td>\n",
       "      <td>0.428672</td>\n",
       "      <td>0.413238</td>\n",
       "      <td>0.417758</td>\n",
       "      <td>0.420388</td>\n",
       "      <td>0.413290</td>\n",
       "      <td>...</td>\n",
       "      <td>0.747858</td>\n",
       "      <td>0.730535</td>\n",
       "      <td>0.716969</td>\n",
       "      <td>0.739297</td>\n",
       "      <td>0.724827</td>\n",
       "      <td>0.720484</td>\n",
       "      <td>0.740626</td>\n",
       "      <td>0.740116</td>\n",
       "      <td>0.721839</td>\n",
       "      <td>1200.0</td>\n",
       "    </tr>\n",
       "    <tr>\n",
       "      <th>496</th>\n",
       "      <td>imagoai_corn_496</td>\n",
       "      <td>0.409367</td>\n",
       "      <td>0.394941</td>\n",
       "      <td>0.380236</td>\n",
       "      <td>0.375340</td>\n",
       "      <td>0.346122</td>\n",
       "      <td>0.354650</td>\n",
       "      <td>0.361170</td>\n",
       "      <td>0.342974</td>\n",
       "      <td>0.352137</td>\n",
       "      <td>...</td>\n",
       "      <td>0.670232</td>\n",
       "      <td>0.659045</td>\n",
       "      <td>0.661587</td>\n",
       "      <td>0.658422</td>\n",
       "      <td>0.644254</td>\n",
       "      <td>0.646479</td>\n",
       "      <td>0.656779</td>\n",
       "      <td>0.646700</td>\n",
       "      <td>0.646733</td>\n",
       "      <td>0.0</td>\n",
       "    </tr>\n",
       "    <tr>\n",
       "      <th>497</th>\n",
       "      <td>imagoai_corn_497</td>\n",
       "      <td>0.486526</td>\n",
       "      <td>0.501372</td>\n",
       "      <td>0.500175</td>\n",
       "      <td>0.508139</td>\n",
       "      <td>0.489411</td>\n",
       "      <td>0.457311</td>\n",
       "      <td>0.462321</td>\n",
       "      <td>0.462927</td>\n",
       "      <td>0.442647</td>\n",
       "      <td>...</td>\n",
       "      <td>0.787532</td>\n",
       "      <td>0.780347</td>\n",
       "      <td>0.768362</td>\n",
       "      <td>0.771411</td>\n",
       "      <td>0.770919</td>\n",
       "      <td>0.761464</td>\n",
       "      <td>0.770314</td>\n",
       "      <td>0.763324</td>\n",
       "      <td>0.797187</td>\n",
       "      <td>0.0</td>\n",
       "    </tr>\n",
       "    <tr>\n",
       "      <th>498</th>\n",
       "      <td>imagoai_corn_498</td>\n",
       "      <td>0.464595</td>\n",
       "      <td>0.498822</td>\n",
       "      <td>0.489077</td>\n",
       "      <td>0.453381</td>\n",
       "      <td>0.487636</td>\n",
       "      <td>0.461950</td>\n",
       "      <td>0.461671</td>\n",
       "      <td>0.447362</td>\n",
       "      <td>0.451952</td>\n",
       "      <td>...</td>\n",
       "      <td>0.739432</td>\n",
       "      <td>0.759722</td>\n",
       "      <td>0.752118</td>\n",
       "      <td>0.761910</td>\n",
       "      <td>0.761111</td>\n",
       "      <td>0.730431</td>\n",
       "      <td>0.753545</td>\n",
       "      <td>0.749619</td>\n",
       "      <td>0.756383</td>\n",
       "      <td>0.0</td>\n",
       "    </tr>\n",
       "    <tr>\n",
       "      <th>499</th>\n",
       "      <td>imagoai_corn_499</td>\n",
       "      <td>0.460840</td>\n",
       "      <td>0.457656</td>\n",
       "      <td>0.434632</td>\n",
       "      <td>0.412675</td>\n",
       "      <td>0.418638</td>\n",
       "      <td>0.408338</td>\n",
       "      <td>0.403807</td>\n",
       "      <td>0.388811</td>\n",
       "      <td>0.382484</td>\n",
       "      <td>...</td>\n",
       "      <td>0.717509</td>\n",
       "      <td>0.726149</td>\n",
       "      <td>0.728631</td>\n",
       "      <td>0.725808</td>\n",
       "      <td>0.716943</td>\n",
       "      <td>0.718320</td>\n",
       "      <td>0.707611</td>\n",
       "      <td>0.729484</td>\n",
       "      <td>0.718706</td>\n",
       "      <td>1400.0</td>\n",
       "    </tr>\n",
       "  </tbody>\n",
       "</table>\n",
       "<p>500 rows × 450 columns</p>\n",
       "</div>"
      ]
     },
     "execution_count": 39,
     "metadata": {},
     "output_type": "execute_result"
    }
   ],
   "execution_count": 39
  },
  {
   "metadata": {},
   "cell_type": "raw",
   "source": [
    "#For KNN\n",
    "Multiplicative Signal Correction(the reference was taken from a source) source:\n",
    "https://www.sciencedirect.com/science/article/pii/S2665927121000034#tbl2\n",
    "Basically I was exploring some techniques if someone else have used for a similar purpose and found it.\n",
    "this has been used keeping in mind the noise that exists in the spectral data.\n",
    "so using this we were able normalise the variation."
   ],
   "id": "d56145130fee58e0"
  },
  {
   "metadata": {
    "ExecuteTime": {
     "end_time": "2025-03-14T05:19:23.012854Z",
     "start_time": "2025-03-14T05:19:22.861855Z"
    }
   },
   "cell_type": "code",
   "source": [
    "import numpy as np\n",
    "import pandas as pd\n",
    "\n",
    "def msc(input_data):\n",
    "    \"\"\"\n",
    "    Perform Multiplicative Signal Correction (MSC) on the input data.\n",
    "    Args:\n",
    "        input_data (pd.DataFrame): Input DataFrame with numeric columns.\n",
    "    Returns:\n",
    "        pd.DataFrame: MSC-corrected DataFrame.\n",
    "    \"\"\"\n",
    "    ref_spectrum = np.mean(input_data, axis=0)\n",
    "\n",
    "    corrected_data = np.zeros_like(input_data)\n",
    "    for i in range(input_data.shape[0]):\n",
    "        fit = np.polyfit(ref_spectrum, input_data.iloc[i, :], deg=1)\n",
    "        a, b = fit\n",
    "        corrected_data[i, :] = (input_data.iloc[i, :] - b) / a\n",
    "\n",
    "    corrected_df = pd.DataFrame(corrected_data, columns=input_data.columns)\n",
    "    return corrected_df\n",
    "df_1.iloc[:, 1:-1] = msc(df_1.iloc[:, 1:-1])\n",
    "print(df_1.head())"
   ],
   "id": "6822d96eb22672e0",
   "outputs": [
    {
     "name": "stdout",
     "output_type": "stream",
     "text": [
      "           hsi_id         0         1         2         3         4         5  \\\n",
      "0  imagoai_corn_0  0.435629  0.414444  0.427745  0.388176  0.401791  0.379987   \n",
      "1  imagoai_corn_1  0.436666  0.422707  0.422280  0.415160  0.416441  0.408225   \n",
      "2  imagoai_corn_2  0.465379  0.447263  0.449186  0.449973  0.436943  0.425406   \n",
      "3  imagoai_corn_3  0.452956  0.457461  0.446953  0.443269  0.445652  0.443767   \n",
      "4  imagoai_corn_4  0.462015  0.465692  0.448703  0.466043  0.443896  0.431826   \n",
      "\n",
      "          6         7         8  ...       439       440       441       442  \\\n",
      "0  0.368852  0.355843  0.357471  ...  0.757812  0.765702  0.763068  0.752443   \n",
      "1  0.393046  0.380020  0.391102  ...  0.728237  0.742652  0.747787  0.741354   \n",
      "2  0.409314  0.406221  0.404274  ...  0.764335  0.750336  0.744127  0.757330   \n",
      "3  0.442106  0.411053  0.398434  ...  0.732257  0.720041  0.726145  0.719270   \n",
      "4  0.438461  0.422104  0.408425  ...  0.730976  0.733588  0.722729  0.724658   \n",
      "\n",
      "        443       444       445       446       447  vomitoxin_ppb  \n",
      "0  0.742925  0.738655  0.759005  0.744008  0.751502         1100.0  \n",
      "1  0.746718  0.721070  0.742271  0.741861  0.733719         1000.0  \n",
      "2  0.757763  0.736777  0.739822  0.752068  0.746157         1300.0  \n",
      "3  0.741082  0.727888  0.731914  0.744364  0.722768         1300.0  \n",
      "4  0.723707  0.706398  0.735907  0.721792  0.713876          220.0  \n",
      "\n",
      "[5 rows x 450 columns]\n"
     ]
    }
   ],
   "execution_count": 2
  },
  {
   "metadata": {},
   "cell_type": "raw",
   "source": [
    "SAE and CNN\n",
    " Triangle Thresholding is effective in isolating signal peaks from noise by finding the optimal threshold.\n",
    " this method also makes the features more distinct from the noise.\n",
    "this was also taken form the research papers from the Science Direct"
   ],
   "id": "9c6df07227fc12b6"
  },
  {
   "metadata": {
    "ExecuteTime": {
     "end_time": "2025-03-14T05:19:23.018270Z",
     "start_time": "2025-03-14T05:19:23.013898Z"
    }
   },
   "cell_type": "code",
   "source": [
    "# import numpy as np\n",
    "# import pandas as pd\n",
    "# import cv2\n",
    "# \n",
    "# def apply_triangle_thresholding(df):\n",
    "#     df_thresholded = df.copy()\n",
    "# \n",
    "#     for col in df.columns[1:-1]:  # Exclude first and last columns\n",
    "#         # Normalize the data to 0-255 (OpenCV requires integer input)\n",
    "#         data = df[col].values\n",
    "#         data_scaled = cv2.normalize(data, None, 0, 255, cv2.NORM_MINMAX).astype(np.uint8)\n",
    "# \n",
    "#         # Apply Triangle Thresholding\n",
    "#         _, thresholded = cv2.threshold(data_scaled, 0, 255, cv2.THRESH_TRIANGLE)\n",
    "# \n",
    "#         # Scale back to original range\n",
    "#         min_val = df[col].min()\n",
    "#         max_val = df[col].max()\n",
    "#         df_thresholded[col] = thresholded * (max_val - min_val) / 255 + min_val\n",
    "# \n",
    "#     return df_thresholded\n",
    "# \n",
    "# # Apply thresholding on df_1 (excluding first and last columns)\n",
    "# df_1.iloc[:, 1:-1] = apply_triangle_thresholding(df_1.iloc[:, 1:-1])\n",
    "# \n",
    "# # Check the result\n",
    "# print(df_1.head())"
   ],
   "id": "ad5d2e02699e32fa",
   "outputs": [],
   "execution_count": 3
  },
  {
   "metadata": {},
   "cell_type": "raw",
   "source": [
    "Savitzky-Golay Smoothing\n",
    "this method is used for the purpose of basically filtering the the noisa while preserving the shape and the features.\n",
    "So I thought apart from the ML knowledge over here we do need some domain knowledge in spectral science inorder to be able to give out better results."
   ],
   "id": "9fd62eb94dee8e70"
  },
  {
   "metadata": {
    "ExecuteTime": {
     "end_time": "2025-03-14T05:19:24.983794Z",
     "start_time": "2025-03-14T05:19:24.979794Z"
    }
   },
   "cell_type": "code",
   "source": [
    "# from scipy.signal import savgol_filter\n",
    "# import pandas as pd\n",
    "# \n",
    "# def apply_savgol_smoothing(df, window_length=11, polyorder=3):\n",
    "#     df_smoothed = df.copy()\n",
    "#     for col in df.columns[1:-1]:  # Exclude first and last columns if needed\n",
    "#         df_smoothed[col] = savgol_filter(df[col], window_length=window_length, polyorder=polyorder)\n",
    "#     return df_smoothed\n",
    "# \n",
    "# # Example Usage:\n",
    "# # Apply smoothing to df_1\n",
    "# df_1.iloc[:, 1:-1] = apply_savgol_smoothing(df_1.iloc[:, 1:-1])\n",
    "# \n",
    "# # Check the result\n",
    "# print(df_1.head())\n"
   ],
   "id": "afd87ef06a09034c",
   "outputs": [],
   "execution_count": 4
  },
  {
   "metadata": {
    "ExecuteTime": {
     "end_time": "2025-03-14T05:19:25.749730Z",
     "start_time": "2025-03-14T05:19:25.745803Z"
    }
   },
   "cell_type": "code",
   "source": "df_1.columns",
   "id": "6cea510a56483a4d",
   "outputs": [
    {
     "data": {
      "text/plain": [
       "Index(['hsi_id', '0', '1', '2', '3', '4', '5', '6', '7', '8',\n",
       "       ...\n",
       "       '439', '440', '441', '442', '443', '444', '445', '446', '447',\n",
       "       'vomitoxin_ppb'],\n",
       "      dtype='object', length=450)"
      ]
     },
     "execution_count": 5,
     "metadata": {},
     "output_type": "execute_result"
    }
   ],
   "execution_count": 5
  },
  {
   "metadata": {
    "ExecuteTime": {
     "end_time": "2025-03-14T05:19:26.010333Z",
     "start_time": "2025-03-14T05:19:26.006827Z"
    }
   },
   "cell_type": "code",
   "source": "target_variable = df_1[\"vomitoxin_ppb\"]",
   "id": "95c749d6ec2fc3ac",
   "outputs": [],
   "execution_count": 6
  },
  {
   "metadata": {
    "ExecuteTime": {
     "end_time": "2025-03-14T05:19:26.211836Z",
     "start_time": "2025-03-14T05:19:26.206745Z"
    }
   },
   "cell_type": "code",
   "source": [
    "missing_values = df_1.isnull().sum()\n",
    "missing_values[missing_values > 0]"
   ],
   "id": "b8730d9e73ee402",
   "outputs": [
    {
     "data": {
      "text/plain": [
       "Series([], dtype: int64)"
      ]
     },
     "execution_count": 7,
     "metadata": {},
     "output_type": "execute_result"
    }
   ],
   "execution_count": 7
  },
  {
   "metadata": {
    "ExecuteTime": {
     "end_time": "2025-03-14T05:19:26.443054Z",
     "start_time": "2025-03-14T05:19:26.437162Z"
    }
   },
   "cell_type": "code",
   "source": [
    "nan_values = df_1.isna().sum()\n",
    "nan_values[nan_values > 0]"
   ],
   "id": "b51e64c135f85708",
   "outputs": [
    {
     "data": {
      "text/plain": [
       "Series([], dtype: int64)"
      ]
     },
     "execution_count": 8,
     "metadata": {},
     "output_type": "execute_result"
    }
   ],
   "execution_count": 8
  },
  {
   "metadata": {
    "ExecuteTime": {
     "end_time": "2025-03-14T05:19:26.681719Z",
     "start_time": "2025-03-14T05:19:26.673717Z"
    }
   },
   "cell_type": "code",
   "source": [
    "import numpy as np\n",
    "df_1.replace([np.inf, -np.inf], np.nan, inplace=True)\n",
    "infinite_values = (df_1 == np.inf).sum() + (df_1 == -np.inf).sum()\n",
    "print(infinite_values)"
   ],
   "id": "c51ccdab5682788d",
   "outputs": [
    {
     "name": "stdout",
     "output_type": "stream",
     "text": [
      "hsi_id           0\n",
      "0                0\n",
      "1                0\n",
      "2                0\n",
      "3                0\n",
      "                ..\n",
      "444              0\n",
      "445              0\n",
      "446              0\n",
      "447              0\n",
      "vomitoxin_ppb    0\n",
      "Length: 450, dtype: int64\n"
     ]
    }
   ],
   "execution_count": 9
  },
  {
   "metadata": {
    "ExecuteTime": {
     "end_time": "2025-03-14T05:19:26.782278Z",
     "start_time": "2025-03-14T05:19:26.777071Z"
    }
   },
   "cell_type": "code",
   "source": [
    "nan_values = df_1.isna().sum()\n",
    "nan_values[nan_values > 0]"
   ],
   "id": "88c825662de7620d",
   "outputs": [
    {
     "data": {
      "text/plain": [
       "Series([], dtype: int64)"
      ]
     },
     "execution_count": 10,
     "metadata": {},
     "output_type": "execute_result"
    }
   ],
   "execution_count": 10
  },
  {
   "metadata": {
    "ExecuteTime": {
     "end_time": "2025-03-14T05:19:26.958618Z",
     "start_time": "2025-03-14T05:19:26.953620Z"
    }
   },
   "cell_type": "code",
   "source": [
    "import seaborn as sns\n",
    "import matplotlib.pyplot as plt\n",
    "\n",
    "sns.set_style(\"dark\")\n",
    "x = df_1.iloc[:, :-1]\n",
    "y = df_1.iloc[:, -1]"
   ],
   "id": "afabeb45417e3efa",
   "outputs": [],
   "execution_count": 11
  },
  {
   "metadata": {
    "ExecuteTime": {
     "end_time": "2025-03-14T05:19:27.180742Z",
     "start_time": "2025-03-14T05:19:27.168286Z"
    }
   },
   "cell_type": "code",
   "source": "x",
   "id": "cc82ebbfd4b3addf",
   "outputs": [
    {
     "data": {
      "text/plain": [
       "               hsi_id         0         1         2         3         4  \\\n",
       "0      imagoai_corn_0  0.435629  0.414444  0.427745  0.388176  0.401791   \n",
       "1      imagoai_corn_1  0.436666  0.422707  0.422280  0.415160  0.416441   \n",
       "2      imagoai_corn_2  0.465379  0.447263  0.449186  0.449973  0.436943   \n",
       "3      imagoai_corn_3  0.452956  0.457461  0.446953  0.443269  0.445652   \n",
       "4      imagoai_corn_4  0.462015  0.465692  0.448703  0.466043  0.443896   \n",
       "..                ...       ...       ...       ...       ...       ...   \n",
       "495  imagoai_corn_495  0.486558  0.453317  0.451452  0.446922  0.438345   \n",
       "496  imagoai_corn_496  0.459521  0.443160  0.426482  0.420929  0.387791   \n",
       "497  imagoai_corn_497  0.451581  0.465413  0.464297  0.471717  0.454268   \n",
       "498  imagoai_corn_498  0.443909  0.477956  0.468262  0.432753  0.466829   \n",
       "499  imagoai_corn_499  0.480349  0.477289  0.455160  0.434058  0.439789   \n",
       "\n",
       "            5         6         7         8  ...       438       439  \\\n",
       "0    0.379987  0.368852  0.355843  0.357471  ...  0.725607  0.757812   \n",
       "1    0.408225  0.393046  0.380020  0.391102  ...  0.747358  0.728237   \n",
       "2    0.425406  0.409314  0.406221  0.404274  ...  0.752485  0.764335   \n",
       "3    0.443767  0.442106  0.411053  0.398434  ...  0.717786  0.732257   \n",
       "4    0.431826  0.438461  0.422104  0.408425  ...  0.739383  0.730976   \n",
       "..        ...       ...       ...       ...  ...       ...       ...   \n",
       "495  0.423303  0.427708  0.430272  0.423353  ...  0.743327  0.749432   \n",
       "496  0.397464  0.404858  0.384221  0.394613  ...  0.723686  0.755382   \n",
       "497  0.424362  0.429029  0.429594  0.410699  ...  0.729586  0.732020   \n",
       "498  0.441277  0.441000  0.426766  0.431332  ...  0.726550  0.717306   \n",
       "499  0.429890  0.425535  0.411123  0.405042  ...  0.733510  0.727027   \n",
       "\n",
       "          440       441       442       443       444       445       446  \\\n",
       "0    0.765702  0.763068  0.752443  0.742925  0.738655  0.759005  0.744008   \n",
       "1    0.742652  0.747787  0.741354  0.746718  0.721070  0.742271  0.741861   \n",
       "2    0.750336  0.744127  0.757330  0.757763  0.736777  0.739822  0.752068   \n",
       "3    0.720041  0.726145  0.719270  0.741082  0.727888  0.731914  0.744364   \n",
       "4    0.733588  0.722729  0.724658  0.723707  0.706398  0.735907  0.721792   \n",
       "..        ...       ...       ...       ...       ...       ...       ...   \n",
       "495  0.732548  0.719327  0.741088  0.726986  0.722753  0.742383  0.741886   \n",
       "496  0.742694  0.745577  0.741987  0.725918  0.728442  0.740124  0.728692   \n",
       "497  0.725326  0.714159  0.717001  0.716543  0.707733  0.715978  0.709466   \n",
       "498  0.737489  0.729925  0.739666  0.738871  0.708352  0.731345  0.727440   \n",
       "499  0.735330  0.737716  0.735002  0.726483  0.727806  0.717514  0.738535   \n",
       "\n",
       "          447  \n",
       "0    0.751502  \n",
       "1    0.733719  \n",
       "2    0.746157  \n",
       "3    0.722768  \n",
       "4    0.713876  \n",
       "..        ...  \n",
       "495  0.724073  \n",
       "496  0.728730  \n",
       "497  0.741016  \n",
       "498  0.734168  \n",
       "499  0.728177  \n",
       "\n",
       "[500 rows x 449 columns]"
      ],
      "text/html": [
       "<div>\n",
       "<style scoped>\n",
       "    .dataframe tbody tr th:only-of-type {\n",
       "        vertical-align: middle;\n",
       "    }\n",
       "\n",
       "    .dataframe tbody tr th {\n",
       "        vertical-align: top;\n",
       "    }\n",
       "\n",
       "    .dataframe thead th {\n",
       "        text-align: right;\n",
       "    }\n",
       "</style>\n",
       "<table border=\"1\" class=\"dataframe\">\n",
       "  <thead>\n",
       "    <tr style=\"text-align: right;\">\n",
       "      <th></th>\n",
       "      <th>hsi_id</th>\n",
       "      <th>0</th>\n",
       "      <th>1</th>\n",
       "      <th>2</th>\n",
       "      <th>3</th>\n",
       "      <th>4</th>\n",
       "      <th>5</th>\n",
       "      <th>6</th>\n",
       "      <th>7</th>\n",
       "      <th>8</th>\n",
       "      <th>...</th>\n",
       "      <th>438</th>\n",
       "      <th>439</th>\n",
       "      <th>440</th>\n",
       "      <th>441</th>\n",
       "      <th>442</th>\n",
       "      <th>443</th>\n",
       "      <th>444</th>\n",
       "      <th>445</th>\n",
       "      <th>446</th>\n",
       "      <th>447</th>\n",
       "    </tr>\n",
       "  </thead>\n",
       "  <tbody>\n",
       "    <tr>\n",
       "      <th>0</th>\n",
       "      <td>imagoai_corn_0</td>\n",
       "      <td>0.435629</td>\n",
       "      <td>0.414444</td>\n",
       "      <td>0.427745</td>\n",
       "      <td>0.388176</td>\n",
       "      <td>0.401791</td>\n",
       "      <td>0.379987</td>\n",
       "      <td>0.368852</td>\n",
       "      <td>0.355843</td>\n",
       "      <td>0.357471</td>\n",
       "      <td>...</td>\n",
       "      <td>0.725607</td>\n",
       "      <td>0.757812</td>\n",
       "      <td>0.765702</td>\n",
       "      <td>0.763068</td>\n",
       "      <td>0.752443</td>\n",
       "      <td>0.742925</td>\n",
       "      <td>0.738655</td>\n",
       "      <td>0.759005</td>\n",
       "      <td>0.744008</td>\n",
       "      <td>0.751502</td>\n",
       "    </tr>\n",
       "    <tr>\n",
       "      <th>1</th>\n",
       "      <td>imagoai_corn_1</td>\n",
       "      <td>0.436666</td>\n",
       "      <td>0.422707</td>\n",
       "      <td>0.422280</td>\n",
       "      <td>0.415160</td>\n",
       "      <td>0.416441</td>\n",
       "      <td>0.408225</td>\n",
       "      <td>0.393046</td>\n",
       "      <td>0.380020</td>\n",
       "      <td>0.391102</td>\n",
       "      <td>...</td>\n",
       "      <td>0.747358</td>\n",
       "      <td>0.728237</td>\n",
       "      <td>0.742652</td>\n",
       "      <td>0.747787</td>\n",
       "      <td>0.741354</td>\n",
       "      <td>0.746718</td>\n",
       "      <td>0.721070</td>\n",
       "      <td>0.742271</td>\n",
       "      <td>0.741861</td>\n",
       "      <td>0.733719</td>\n",
       "    </tr>\n",
       "    <tr>\n",
       "      <th>2</th>\n",
       "      <td>imagoai_corn_2</td>\n",
       "      <td>0.465379</td>\n",
       "      <td>0.447263</td>\n",
       "      <td>0.449186</td>\n",
       "      <td>0.449973</td>\n",
       "      <td>0.436943</td>\n",
       "      <td>0.425406</td>\n",
       "      <td>0.409314</td>\n",
       "      <td>0.406221</td>\n",
       "      <td>0.404274</td>\n",
       "      <td>...</td>\n",
       "      <td>0.752485</td>\n",
       "      <td>0.764335</td>\n",
       "      <td>0.750336</td>\n",
       "      <td>0.744127</td>\n",
       "      <td>0.757330</td>\n",
       "      <td>0.757763</td>\n",
       "      <td>0.736777</td>\n",
       "      <td>0.739822</td>\n",
       "      <td>0.752068</td>\n",
       "      <td>0.746157</td>\n",
       "    </tr>\n",
       "    <tr>\n",
       "      <th>3</th>\n",
       "      <td>imagoai_corn_3</td>\n",
       "      <td>0.452956</td>\n",
       "      <td>0.457461</td>\n",
       "      <td>0.446953</td>\n",
       "      <td>0.443269</td>\n",
       "      <td>0.445652</td>\n",
       "      <td>0.443767</td>\n",
       "      <td>0.442106</td>\n",
       "      <td>0.411053</td>\n",
       "      <td>0.398434</td>\n",
       "      <td>...</td>\n",
       "      <td>0.717786</td>\n",
       "      <td>0.732257</td>\n",
       "      <td>0.720041</td>\n",
       "      <td>0.726145</td>\n",
       "      <td>0.719270</td>\n",
       "      <td>0.741082</td>\n",
       "      <td>0.727888</td>\n",
       "      <td>0.731914</td>\n",
       "      <td>0.744364</td>\n",
       "      <td>0.722768</td>\n",
       "    </tr>\n",
       "    <tr>\n",
       "      <th>4</th>\n",
       "      <td>imagoai_corn_4</td>\n",
       "      <td>0.462015</td>\n",
       "      <td>0.465692</td>\n",
       "      <td>0.448703</td>\n",
       "      <td>0.466043</td>\n",
       "      <td>0.443896</td>\n",
       "      <td>0.431826</td>\n",
       "      <td>0.438461</td>\n",
       "      <td>0.422104</td>\n",
       "      <td>0.408425</td>\n",
       "      <td>...</td>\n",
       "      <td>0.739383</td>\n",
       "      <td>0.730976</td>\n",
       "      <td>0.733588</td>\n",
       "      <td>0.722729</td>\n",
       "      <td>0.724658</td>\n",
       "      <td>0.723707</td>\n",
       "      <td>0.706398</td>\n",
       "      <td>0.735907</td>\n",
       "      <td>0.721792</td>\n",
       "      <td>0.713876</td>\n",
       "    </tr>\n",
       "    <tr>\n",
       "      <th>...</th>\n",
       "      <td>...</td>\n",
       "      <td>...</td>\n",
       "      <td>...</td>\n",
       "      <td>...</td>\n",
       "      <td>...</td>\n",
       "      <td>...</td>\n",
       "      <td>...</td>\n",
       "      <td>...</td>\n",
       "      <td>...</td>\n",
       "      <td>...</td>\n",
       "      <td>...</td>\n",
       "      <td>...</td>\n",
       "      <td>...</td>\n",
       "      <td>...</td>\n",
       "      <td>...</td>\n",
       "      <td>...</td>\n",
       "      <td>...</td>\n",
       "      <td>...</td>\n",
       "      <td>...</td>\n",
       "      <td>...</td>\n",
       "      <td>...</td>\n",
       "    </tr>\n",
       "    <tr>\n",
       "      <th>495</th>\n",
       "      <td>imagoai_corn_495</td>\n",
       "      <td>0.486558</td>\n",
       "      <td>0.453317</td>\n",
       "      <td>0.451452</td>\n",
       "      <td>0.446922</td>\n",
       "      <td>0.438345</td>\n",
       "      <td>0.423303</td>\n",
       "      <td>0.427708</td>\n",
       "      <td>0.430272</td>\n",
       "      <td>0.423353</td>\n",
       "      <td>...</td>\n",
       "      <td>0.743327</td>\n",
       "      <td>0.749432</td>\n",
       "      <td>0.732548</td>\n",
       "      <td>0.719327</td>\n",
       "      <td>0.741088</td>\n",
       "      <td>0.726986</td>\n",
       "      <td>0.722753</td>\n",
       "      <td>0.742383</td>\n",
       "      <td>0.741886</td>\n",
       "      <td>0.724073</td>\n",
       "    </tr>\n",
       "    <tr>\n",
       "      <th>496</th>\n",
       "      <td>imagoai_corn_496</td>\n",
       "      <td>0.459521</td>\n",
       "      <td>0.443160</td>\n",
       "      <td>0.426482</td>\n",
       "      <td>0.420929</td>\n",
       "      <td>0.387791</td>\n",
       "      <td>0.397464</td>\n",
       "      <td>0.404858</td>\n",
       "      <td>0.384221</td>\n",
       "      <td>0.394613</td>\n",
       "      <td>...</td>\n",
       "      <td>0.723686</td>\n",
       "      <td>0.755382</td>\n",
       "      <td>0.742694</td>\n",
       "      <td>0.745577</td>\n",
       "      <td>0.741987</td>\n",
       "      <td>0.725918</td>\n",
       "      <td>0.728442</td>\n",
       "      <td>0.740124</td>\n",
       "      <td>0.728692</td>\n",
       "      <td>0.728730</td>\n",
       "    </tr>\n",
       "    <tr>\n",
       "      <th>497</th>\n",
       "      <td>imagoai_corn_497</td>\n",
       "      <td>0.451581</td>\n",
       "      <td>0.465413</td>\n",
       "      <td>0.464297</td>\n",
       "      <td>0.471717</td>\n",
       "      <td>0.454268</td>\n",
       "      <td>0.424362</td>\n",
       "      <td>0.429029</td>\n",
       "      <td>0.429594</td>\n",
       "      <td>0.410699</td>\n",
       "      <td>...</td>\n",
       "      <td>0.729586</td>\n",
       "      <td>0.732020</td>\n",
       "      <td>0.725326</td>\n",
       "      <td>0.714159</td>\n",
       "      <td>0.717001</td>\n",
       "      <td>0.716543</td>\n",
       "      <td>0.707733</td>\n",
       "      <td>0.715978</td>\n",
       "      <td>0.709466</td>\n",
       "      <td>0.741016</td>\n",
       "    </tr>\n",
       "    <tr>\n",
       "      <th>498</th>\n",
       "      <td>imagoai_corn_498</td>\n",
       "      <td>0.443909</td>\n",
       "      <td>0.477956</td>\n",
       "      <td>0.468262</td>\n",
       "      <td>0.432753</td>\n",
       "      <td>0.466829</td>\n",
       "      <td>0.441277</td>\n",
       "      <td>0.441000</td>\n",
       "      <td>0.426766</td>\n",
       "      <td>0.431332</td>\n",
       "      <td>...</td>\n",
       "      <td>0.726550</td>\n",
       "      <td>0.717306</td>\n",
       "      <td>0.737489</td>\n",
       "      <td>0.729925</td>\n",
       "      <td>0.739666</td>\n",
       "      <td>0.738871</td>\n",
       "      <td>0.708352</td>\n",
       "      <td>0.731345</td>\n",
       "      <td>0.727440</td>\n",
       "      <td>0.734168</td>\n",
       "    </tr>\n",
       "    <tr>\n",
       "      <th>499</th>\n",
       "      <td>imagoai_corn_499</td>\n",
       "      <td>0.480349</td>\n",
       "      <td>0.477289</td>\n",
       "      <td>0.455160</td>\n",
       "      <td>0.434058</td>\n",
       "      <td>0.439789</td>\n",
       "      <td>0.429890</td>\n",
       "      <td>0.425535</td>\n",
       "      <td>0.411123</td>\n",
       "      <td>0.405042</td>\n",
       "      <td>...</td>\n",
       "      <td>0.733510</td>\n",
       "      <td>0.727027</td>\n",
       "      <td>0.735330</td>\n",
       "      <td>0.737716</td>\n",
       "      <td>0.735002</td>\n",
       "      <td>0.726483</td>\n",
       "      <td>0.727806</td>\n",
       "      <td>0.717514</td>\n",
       "      <td>0.738535</td>\n",
       "      <td>0.728177</td>\n",
       "    </tr>\n",
       "  </tbody>\n",
       "</table>\n",
       "<p>500 rows × 449 columns</p>\n",
       "</div>"
      ]
     },
     "execution_count": 12,
     "metadata": {},
     "output_type": "execute_result"
    }
   ],
   "execution_count": 12
  },
  {
   "metadata": {
    "ExecuteTime": {
     "end_time": "2025-03-14T05:19:27.345429Z",
     "start_time": "2025-03-14T05:19:27.330973Z"
    }
   },
   "cell_type": "code",
   "source": "x",
   "id": "7f175383244473c4",
   "outputs": [
    {
     "data": {
      "text/plain": [
       "               hsi_id         0         1         2         3         4  \\\n",
       "0      imagoai_corn_0  0.435629  0.414444  0.427745  0.388176  0.401791   \n",
       "1      imagoai_corn_1  0.436666  0.422707  0.422280  0.415160  0.416441   \n",
       "2      imagoai_corn_2  0.465379  0.447263  0.449186  0.449973  0.436943   \n",
       "3      imagoai_corn_3  0.452956  0.457461  0.446953  0.443269  0.445652   \n",
       "4      imagoai_corn_4  0.462015  0.465692  0.448703  0.466043  0.443896   \n",
       "..                ...       ...       ...       ...       ...       ...   \n",
       "495  imagoai_corn_495  0.486558  0.453317  0.451452  0.446922  0.438345   \n",
       "496  imagoai_corn_496  0.459521  0.443160  0.426482  0.420929  0.387791   \n",
       "497  imagoai_corn_497  0.451581  0.465413  0.464297  0.471717  0.454268   \n",
       "498  imagoai_corn_498  0.443909  0.477956  0.468262  0.432753  0.466829   \n",
       "499  imagoai_corn_499  0.480349  0.477289  0.455160  0.434058  0.439789   \n",
       "\n",
       "            5         6         7         8  ...       438       439  \\\n",
       "0    0.379987  0.368852  0.355843  0.357471  ...  0.725607  0.757812   \n",
       "1    0.408225  0.393046  0.380020  0.391102  ...  0.747358  0.728237   \n",
       "2    0.425406  0.409314  0.406221  0.404274  ...  0.752485  0.764335   \n",
       "3    0.443767  0.442106  0.411053  0.398434  ...  0.717786  0.732257   \n",
       "4    0.431826  0.438461  0.422104  0.408425  ...  0.739383  0.730976   \n",
       "..        ...       ...       ...       ...  ...       ...       ...   \n",
       "495  0.423303  0.427708  0.430272  0.423353  ...  0.743327  0.749432   \n",
       "496  0.397464  0.404858  0.384221  0.394613  ...  0.723686  0.755382   \n",
       "497  0.424362  0.429029  0.429594  0.410699  ...  0.729586  0.732020   \n",
       "498  0.441277  0.441000  0.426766  0.431332  ...  0.726550  0.717306   \n",
       "499  0.429890  0.425535  0.411123  0.405042  ...  0.733510  0.727027   \n",
       "\n",
       "          440       441       442       443       444       445       446  \\\n",
       "0    0.765702  0.763068  0.752443  0.742925  0.738655  0.759005  0.744008   \n",
       "1    0.742652  0.747787  0.741354  0.746718  0.721070  0.742271  0.741861   \n",
       "2    0.750336  0.744127  0.757330  0.757763  0.736777  0.739822  0.752068   \n",
       "3    0.720041  0.726145  0.719270  0.741082  0.727888  0.731914  0.744364   \n",
       "4    0.733588  0.722729  0.724658  0.723707  0.706398  0.735907  0.721792   \n",
       "..        ...       ...       ...       ...       ...       ...       ...   \n",
       "495  0.732548  0.719327  0.741088  0.726986  0.722753  0.742383  0.741886   \n",
       "496  0.742694  0.745577  0.741987  0.725918  0.728442  0.740124  0.728692   \n",
       "497  0.725326  0.714159  0.717001  0.716543  0.707733  0.715978  0.709466   \n",
       "498  0.737489  0.729925  0.739666  0.738871  0.708352  0.731345  0.727440   \n",
       "499  0.735330  0.737716  0.735002  0.726483  0.727806  0.717514  0.738535   \n",
       "\n",
       "          447  \n",
       "0    0.751502  \n",
       "1    0.733719  \n",
       "2    0.746157  \n",
       "3    0.722768  \n",
       "4    0.713876  \n",
       "..        ...  \n",
       "495  0.724073  \n",
       "496  0.728730  \n",
       "497  0.741016  \n",
       "498  0.734168  \n",
       "499  0.728177  \n",
       "\n",
       "[500 rows x 449 columns]"
      ],
      "text/html": [
       "<div>\n",
       "<style scoped>\n",
       "    .dataframe tbody tr th:only-of-type {\n",
       "        vertical-align: middle;\n",
       "    }\n",
       "\n",
       "    .dataframe tbody tr th {\n",
       "        vertical-align: top;\n",
       "    }\n",
       "\n",
       "    .dataframe thead th {\n",
       "        text-align: right;\n",
       "    }\n",
       "</style>\n",
       "<table border=\"1\" class=\"dataframe\">\n",
       "  <thead>\n",
       "    <tr style=\"text-align: right;\">\n",
       "      <th></th>\n",
       "      <th>hsi_id</th>\n",
       "      <th>0</th>\n",
       "      <th>1</th>\n",
       "      <th>2</th>\n",
       "      <th>3</th>\n",
       "      <th>4</th>\n",
       "      <th>5</th>\n",
       "      <th>6</th>\n",
       "      <th>7</th>\n",
       "      <th>8</th>\n",
       "      <th>...</th>\n",
       "      <th>438</th>\n",
       "      <th>439</th>\n",
       "      <th>440</th>\n",
       "      <th>441</th>\n",
       "      <th>442</th>\n",
       "      <th>443</th>\n",
       "      <th>444</th>\n",
       "      <th>445</th>\n",
       "      <th>446</th>\n",
       "      <th>447</th>\n",
       "    </tr>\n",
       "  </thead>\n",
       "  <tbody>\n",
       "    <tr>\n",
       "      <th>0</th>\n",
       "      <td>imagoai_corn_0</td>\n",
       "      <td>0.435629</td>\n",
       "      <td>0.414444</td>\n",
       "      <td>0.427745</td>\n",
       "      <td>0.388176</td>\n",
       "      <td>0.401791</td>\n",
       "      <td>0.379987</td>\n",
       "      <td>0.368852</td>\n",
       "      <td>0.355843</td>\n",
       "      <td>0.357471</td>\n",
       "      <td>...</td>\n",
       "      <td>0.725607</td>\n",
       "      <td>0.757812</td>\n",
       "      <td>0.765702</td>\n",
       "      <td>0.763068</td>\n",
       "      <td>0.752443</td>\n",
       "      <td>0.742925</td>\n",
       "      <td>0.738655</td>\n",
       "      <td>0.759005</td>\n",
       "      <td>0.744008</td>\n",
       "      <td>0.751502</td>\n",
       "    </tr>\n",
       "    <tr>\n",
       "      <th>1</th>\n",
       "      <td>imagoai_corn_1</td>\n",
       "      <td>0.436666</td>\n",
       "      <td>0.422707</td>\n",
       "      <td>0.422280</td>\n",
       "      <td>0.415160</td>\n",
       "      <td>0.416441</td>\n",
       "      <td>0.408225</td>\n",
       "      <td>0.393046</td>\n",
       "      <td>0.380020</td>\n",
       "      <td>0.391102</td>\n",
       "      <td>...</td>\n",
       "      <td>0.747358</td>\n",
       "      <td>0.728237</td>\n",
       "      <td>0.742652</td>\n",
       "      <td>0.747787</td>\n",
       "      <td>0.741354</td>\n",
       "      <td>0.746718</td>\n",
       "      <td>0.721070</td>\n",
       "      <td>0.742271</td>\n",
       "      <td>0.741861</td>\n",
       "      <td>0.733719</td>\n",
       "    </tr>\n",
       "    <tr>\n",
       "      <th>2</th>\n",
       "      <td>imagoai_corn_2</td>\n",
       "      <td>0.465379</td>\n",
       "      <td>0.447263</td>\n",
       "      <td>0.449186</td>\n",
       "      <td>0.449973</td>\n",
       "      <td>0.436943</td>\n",
       "      <td>0.425406</td>\n",
       "      <td>0.409314</td>\n",
       "      <td>0.406221</td>\n",
       "      <td>0.404274</td>\n",
       "      <td>...</td>\n",
       "      <td>0.752485</td>\n",
       "      <td>0.764335</td>\n",
       "      <td>0.750336</td>\n",
       "      <td>0.744127</td>\n",
       "      <td>0.757330</td>\n",
       "      <td>0.757763</td>\n",
       "      <td>0.736777</td>\n",
       "      <td>0.739822</td>\n",
       "      <td>0.752068</td>\n",
       "      <td>0.746157</td>\n",
       "    </tr>\n",
       "    <tr>\n",
       "      <th>3</th>\n",
       "      <td>imagoai_corn_3</td>\n",
       "      <td>0.452956</td>\n",
       "      <td>0.457461</td>\n",
       "      <td>0.446953</td>\n",
       "      <td>0.443269</td>\n",
       "      <td>0.445652</td>\n",
       "      <td>0.443767</td>\n",
       "      <td>0.442106</td>\n",
       "      <td>0.411053</td>\n",
       "      <td>0.398434</td>\n",
       "      <td>...</td>\n",
       "      <td>0.717786</td>\n",
       "      <td>0.732257</td>\n",
       "      <td>0.720041</td>\n",
       "      <td>0.726145</td>\n",
       "      <td>0.719270</td>\n",
       "      <td>0.741082</td>\n",
       "      <td>0.727888</td>\n",
       "      <td>0.731914</td>\n",
       "      <td>0.744364</td>\n",
       "      <td>0.722768</td>\n",
       "    </tr>\n",
       "    <tr>\n",
       "      <th>4</th>\n",
       "      <td>imagoai_corn_4</td>\n",
       "      <td>0.462015</td>\n",
       "      <td>0.465692</td>\n",
       "      <td>0.448703</td>\n",
       "      <td>0.466043</td>\n",
       "      <td>0.443896</td>\n",
       "      <td>0.431826</td>\n",
       "      <td>0.438461</td>\n",
       "      <td>0.422104</td>\n",
       "      <td>0.408425</td>\n",
       "      <td>...</td>\n",
       "      <td>0.739383</td>\n",
       "      <td>0.730976</td>\n",
       "      <td>0.733588</td>\n",
       "      <td>0.722729</td>\n",
       "      <td>0.724658</td>\n",
       "      <td>0.723707</td>\n",
       "      <td>0.706398</td>\n",
       "      <td>0.735907</td>\n",
       "      <td>0.721792</td>\n",
       "      <td>0.713876</td>\n",
       "    </tr>\n",
       "    <tr>\n",
       "      <th>...</th>\n",
       "      <td>...</td>\n",
       "      <td>...</td>\n",
       "      <td>...</td>\n",
       "      <td>...</td>\n",
       "      <td>...</td>\n",
       "      <td>...</td>\n",
       "      <td>...</td>\n",
       "      <td>...</td>\n",
       "      <td>...</td>\n",
       "      <td>...</td>\n",
       "      <td>...</td>\n",
       "      <td>...</td>\n",
       "      <td>...</td>\n",
       "      <td>...</td>\n",
       "      <td>...</td>\n",
       "      <td>...</td>\n",
       "      <td>...</td>\n",
       "      <td>...</td>\n",
       "      <td>...</td>\n",
       "      <td>...</td>\n",
       "      <td>...</td>\n",
       "    </tr>\n",
       "    <tr>\n",
       "      <th>495</th>\n",
       "      <td>imagoai_corn_495</td>\n",
       "      <td>0.486558</td>\n",
       "      <td>0.453317</td>\n",
       "      <td>0.451452</td>\n",
       "      <td>0.446922</td>\n",
       "      <td>0.438345</td>\n",
       "      <td>0.423303</td>\n",
       "      <td>0.427708</td>\n",
       "      <td>0.430272</td>\n",
       "      <td>0.423353</td>\n",
       "      <td>...</td>\n",
       "      <td>0.743327</td>\n",
       "      <td>0.749432</td>\n",
       "      <td>0.732548</td>\n",
       "      <td>0.719327</td>\n",
       "      <td>0.741088</td>\n",
       "      <td>0.726986</td>\n",
       "      <td>0.722753</td>\n",
       "      <td>0.742383</td>\n",
       "      <td>0.741886</td>\n",
       "      <td>0.724073</td>\n",
       "    </tr>\n",
       "    <tr>\n",
       "      <th>496</th>\n",
       "      <td>imagoai_corn_496</td>\n",
       "      <td>0.459521</td>\n",
       "      <td>0.443160</td>\n",
       "      <td>0.426482</td>\n",
       "      <td>0.420929</td>\n",
       "      <td>0.387791</td>\n",
       "      <td>0.397464</td>\n",
       "      <td>0.404858</td>\n",
       "      <td>0.384221</td>\n",
       "      <td>0.394613</td>\n",
       "      <td>...</td>\n",
       "      <td>0.723686</td>\n",
       "      <td>0.755382</td>\n",
       "      <td>0.742694</td>\n",
       "      <td>0.745577</td>\n",
       "      <td>0.741987</td>\n",
       "      <td>0.725918</td>\n",
       "      <td>0.728442</td>\n",
       "      <td>0.740124</td>\n",
       "      <td>0.728692</td>\n",
       "      <td>0.728730</td>\n",
       "    </tr>\n",
       "    <tr>\n",
       "      <th>497</th>\n",
       "      <td>imagoai_corn_497</td>\n",
       "      <td>0.451581</td>\n",
       "      <td>0.465413</td>\n",
       "      <td>0.464297</td>\n",
       "      <td>0.471717</td>\n",
       "      <td>0.454268</td>\n",
       "      <td>0.424362</td>\n",
       "      <td>0.429029</td>\n",
       "      <td>0.429594</td>\n",
       "      <td>0.410699</td>\n",
       "      <td>...</td>\n",
       "      <td>0.729586</td>\n",
       "      <td>0.732020</td>\n",
       "      <td>0.725326</td>\n",
       "      <td>0.714159</td>\n",
       "      <td>0.717001</td>\n",
       "      <td>0.716543</td>\n",
       "      <td>0.707733</td>\n",
       "      <td>0.715978</td>\n",
       "      <td>0.709466</td>\n",
       "      <td>0.741016</td>\n",
       "    </tr>\n",
       "    <tr>\n",
       "      <th>498</th>\n",
       "      <td>imagoai_corn_498</td>\n",
       "      <td>0.443909</td>\n",
       "      <td>0.477956</td>\n",
       "      <td>0.468262</td>\n",
       "      <td>0.432753</td>\n",
       "      <td>0.466829</td>\n",
       "      <td>0.441277</td>\n",
       "      <td>0.441000</td>\n",
       "      <td>0.426766</td>\n",
       "      <td>0.431332</td>\n",
       "      <td>...</td>\n",
       "      <td>0.726550</td>\n",
       "      <td>0.717306</td>\n",
       "      <td>0.737489</td>\n",
       "      <td>0.729925</td>\n",
       "      <td>0.739666</td>\n",
       "      <td>0.738871</td>\n",
       "      <td>0.708352</td>\n",
       "      <td>0.731345</td>\n",
       "      <td>0.727440</td>\n",
       "      <td>0.734168</td>\n",
       "    </tr>\n",
       "    <tr>\n",
       "      <th>499</th>\n",
       "      <td>imagoai_corn_499</td>\n",
       "      <td>0.480349</td>\n",
       "      <td>0.477289</td>\n",
       "      <td>0.455160</td>\n",
       "      <td>0.434058</td>\n",
       "      <td>0.439789</td>\n",
       "      <td>0.429890</td>\n",
       "      <td>0.425535</td>\n",
       "      <td>0.411123</td>\n",
       "      <td>0.405042</td>\n",
       "      <td>...</td>\n",
       "      <td>0.733510</td>\n",
       "      <td>0.727027</td>\n",
       "      <td>0.735330</td>\n",
       "      <td>0.737716</td>\n",
       "      <td>0.735002</td>\n",
       "      <td>0.726483</td>\n",
       "      <td>0.727806</td>\n",
       "      <td>0.717514</td>\n",
       "      <td>0.738535</td>\n",
       "      <td>0.728177</td>\n",
       "    </tr>\n",
       "  </tbody>\n",
       "</table>\n",
       "<p>500 rows × 449 columns</p>\n",
       "</div>"
      ]
     },
     "execution_count": 13,
     "metadata": {},
     "output_type": "execute_result"
    }
   ],
   "execution_count": 13
  },
  {
   "metadata": {
    "ExecuteTime": {
     "end_time": "2025-03-14T05:19:27.515794Z",
     "start_time": "2025-03-14T05:19:27.510441Z"
    }
   },
   "cell_type": "code",
   "source": [
    "\n",
    "y"
   ],
   "id": "318609ff9ff79eaa",
   "outputs": [
    {
     "data": {
      "text/plain": [
       "0      1100.0\n",
       "1      1000.0\n",
       "2      1300.0\n",
       "3      1300.0\n",
       "4       220.0\n",
       "        ...  \n",
       "495    1200.0\n",
       "496       0.0\n",
       "497       0.0\n",
       "498       0.0\n",
       "499    1400.0\n",
       "Name: vomitoxin_ppb, Length: 500, dtype: float64"
      ]
     },
     "execution_count": 14,
     "metadata": {},
     "output_type": "execute_result"
    }
   ],
   "execution_count": 14
  },
  {
   "metadata": {
    "ExecuteTime": {
     "end_time": "2025-03-14T05:19:28.030189Z",
     "start_time": "2025-03-14T05:19:27.802188Z"
    }
   },
   "cell_type": "code",
   "source": [
    "import matplotlib.pyplot as plt\n",
    "import seaborn as sns\n",
    "fig, axes = plt.subplots(1, 2, figsize=(14, 5))\n",
    "\n",
    "# Histogram\n",
    "sns.histplot(df_1[\"vomitoxin_ppb\"], bins=50, kde=True, ax=axes[0], color=\"red\")\n",
    "axes[0].set_title(\"Histogram of DON Concentration\", fontsize=14)\n",
    "axes[0].set_xlabel(\"DON Concentration (ppb)\")\n",
    "\n",
    "# Boxplot\n",
    "sns.boxplot(x=df_1[\"vomitoxin_ppb\"], ax=axes[1], color=\"red\")\n",
    "axes[1].set_title(\"Boxplot of DON Concentration\", fontsize=14)\n",
    "axes[1].set_xlabel(\"DON Concentration (ppb)\")\n",
    "\n",
    "plt.tight_layout()\n",
    "plt.show()"
   ],
   "id": "6e5b0de2be3b5023",
   "outputs": [
    {
     "data": {
      "text/plain": [
       "<Figure size 1400x500 with 2 Axes>"
      ],
      "image/png": "[encoded data removed]"
     },
     "metadata": {},
     "output_type": "display_data"
    }
   ],
   "execution_count": 15
  },
  {
   "metadata": {},
   "cell_type": "raw",
   "source": "the distribution over here is very much skewed in nature, left skewed in nature.",
   "id": "93bd0123fa473f20"
  },
  {
   "metadata": {
    "ExecuteTime": {
     "end_time": "2025-03-14T05:19:28.750926Z",
     "start_time": "2025-03-14T05:19:28.533575Z"
    }
   },
   "cell_type": "code",
   "source": [
    "selected_wavelengths = df_1.columns[1:11]  #Visualizing all 448 columns is not practical we will work our way through\n",
    "\n",
    "plt.figure(figsize=(14, 6))\n",
    "sns.boxplot(data=df_1[selected_wavelengths])\n",
    "plt.xticks(rotation=45)\n",
    "plt.title(\"Boxplot of Selected Spectral Reflectance Features\", fontsize=14)\n",
    "plt.xlabel(\"Wavelength Index\")\n",
    "plt.ylabel(\"Reflectance\")\n",
    "plt.show()"
   ],
   "id": "3c05198adf7c842e",
   "outputs": [
    {
     "data": {
      "text/plain": [
       "<Figure size 1400x600 with 1 Axes>"
      ],
      "image/png": "[encoded data removed]"
     },
     "metadata": {},
     "output_type": "display_data"
    }
   ],
   "execution_count": 16
  },
  {
   "metadata": {},
   "cell_type": "raw",
   "source": "this was just a boxplot representation which will tell us about the outliers that exists in the dataset, and this was just a representation, and the rest of them are calculated below using Inter Quartile range method.",
   "id": "334275f9eab48548"
  },
  {
   "metadata": {
    "ExecuteTime": {
     "end_time": "2025-03-14T05:19:29.319321Z",
     "start_time": "2025-03-14T05:19:29.303013Z"
    }
   },
   "cell_type": "code",
   "source": [
    "Q1 = df_1.iloc[:, 1:-1].quantile(0.25)\n",
    "Q3 = df_1.iloc[:, 1:-1].quantile(0.75)\n",
    "IQR = Q3 - Q1\n",
    "outlier_counts = ((df_1.iloc[:, 1:-1] < (Q1 - 1.5 * IQR)) | (df_1.iloc[:, 1:-1] > (Q3 + 1.5 * IQR))).sum()\n",
    "print(outlier_counts[outlier_counts > 0])"
   ],
   "id": "f6e435d4f0ab26c0",
   "outputs": [
    {
     "name": "stdout",
     "output_type": "stream",
     "text": [
      "0      16\n",
      "1       6\n",
      "2      14\n",
      "3       2\n",
      "4       5\n",
      "       ..\n",
      "443    20\n",
      "444    27\n",
      "445    19\n",
      "446    30\n",
      "447    21\n",
      "Length: 444, dtype: int64\n"
     ]
    }
   ],
   "execution_count": 17
  },
  {
   "metadata": {},
   "cell_type": "raw",
   "source": "this basically shows us the number of outliers in the respective features.",
   "id": "2281f8f124b0339b"
  },
  {
   "metadata": {
    "ExecuteTime": {
     "end_time": "2025-03-14T05:19:29.355155Z",
     "start_time": "2025-03-14T05:19:29.350328Z"
    }
   },
   "cell_type": "code",
   "source": "print(df_1.dtypes)",
   "id": "c61617ed9d805007",
   "outputs": [
    {
     "name": "stdout",
     "output_type": "stream",
     "text": [
      "hsi_id            object\n",
      "0                float64\n",
      "1                float64\n",
      "2                float64\n",
      "3                float64\n",
      "                  ...   \n",
      "444              float64\n",
      "445              float64\n",
      "446              float64\n",
      "447              float64\n",
      "vomitoxin_ppb    float64\n",
      "Length: 450, dtype: object\n"
     ]
    }
   ],
   "execution_count": 18
  },
  {
   "metadata": {},
   "cell_type": "raw",
   "source": "Was just making sure everything is float",
   "id": "6cb5328cdc7ebd4d"
  },
  {
   "metadata": {
    "ExecuteTime": {
     "end_time": "2025-03-14T05:19:29.605254Z",
     "start_time": "2025-03-14T05:19:29.478162Z"
    }
   },
   "cell_type": "code",
   "source": [
    "corr_values = df_1.iloc[:, 1:-1].corrwith(df_1[\"vomitoxin_ppb\"])\n",
    "\n",
    "# Plot correlation\n",
    "plt.figure(figsize=(12, 5))\n",
    "sns.lineplot(x=range(len(corr_values)), y=corr_values, color=\"purple\")\n",
    "plt.title(\"Correlation Between Spectral Features & Vomitoxin Levels\", fontsize=14)\n",
    "plt.xlabel(\"Wavelength Index\")\n",
    "plt.ylabel(\"Correlation with DON\")\n",
    "plt.axhline(0, color=\"black\", linestyle=\"--\", alpha=0.6)\n",
    "plt.show()"
   ],
   "id": "e3c9922c36591eee",
   "outputs": [
    {
     "data": {
      "text/plain": [
       "<Figure size 1200x500 with 1 Axes>"
      ],
      "image/png": "[encoded data removed]"
     },
     "metadata": {},
     "output_type": "display_data"
    }
   ],
   "execution_count": 19
  },
  {
   "metadata": {},
   "cell_type": "raw",
   "source": [
    "as we can see that initially there is a positive correlation, which signifies the fact that they are kinda directly proptional initially, and then we can see a strong negative correlation, which correspond to lower concentration levels.\n",
    ", then again there seems to be a linear relation between the concentration levels and the wavelength index"
   ],
   "id": "fdd4fd15bde2d509"
  },
  {
   "metadata": {
    "ExecuteTime": {
     "end_time": "2025-03-14T05:19:30.968476Z",
     "start_time": "2025-03-14T05:19:29.842292Z"
    }
   },
   "cell_type": "code",
   "source": [
    "#Line Plot: Average Reflectance Across Wavelengths\n",
    "spectral_columns = df_1.columns[1:-1]  \n",
    "mean_reflectance = df_1[spectral_columns].mean()\n",
    "plt.figure(figsize=(12, 6))\n",
    "plt.plot(mean_reflectance.index, mean_reflectance.values, marker='o', linestyle='-')\n",
    "plt.xlabel(\"Wavelength Index\")\n",
    "plt.ylabel(\"Average Reflectance\")\n",
    "plt.title(\"Average Spectral Reflectance Across Wavelengths\", fontsize=14)\n",
    "plt.grid()\n",
    "plt.show()"
   ],
   "id": "ae04eb4f105573ff",
   "outputs": [
    {
     "data": {
      "text/plain": [
       "<Figure size 1200x600 with 1 Axes>"
      ],
      "image/png": "[encoded data removed]"
     },
     "metadata": {},
     "output_type": "display_data"
    }
   ],
   "execution_count": 20
  },
  {
   "metadata": {
    "ExecuteTime": {
     "end_time": "2025-03-14T05:19:31.415380Z",
     "start_time": "2025-03-14T05:19:31.264567Z"
    }
   },
   "cell_type": "code",
   "source": [
    "#Line Plot: Average Reflectance Across Wavelengths we will take 50 features to avoid overload our visualization\n",
    "sample_subset = df_1[spectral_columns].iloc[1:50]\n",
    "plt.figure(figsize=(14, 6))\n",
    "sns.heatmap(sample_subset, cmap=\"viridis\", xticklabels=50, yticklabels=10)\n",
    "plt.xlabel(\"Wavelength Index\")\n",
    "plt.ylabel(\"Sample Index\")\n",
    "plt.title(\"Spectral Reflectance Heatmap (First 50 Samples)\", fontsize=14)\n",
    "plt.show()"
   ],
   "id": "cc8cef595fcdb83b",
   "outputs": [
    {
     "data": {
      "text/plain": [
       "<Figure size 1400x600 with 2 Axes>"
      ],
      "image/png": "[encoded data removed]"
     },
     "metadata": {},
     "output_type": "display_data"
    }
   ],
   "execution_count": 21
  },
  {
   "metadata": {},
   "cell_type": "raw",
   "source": "color intensity(reflectance): the color intensity in each cell represents the reflectence value of the respective samples, at their respective wavelengths.",
   "id": "ff45456d232be0ad"
  },
  {
   "metadata": {
    "ExecuteTime": {
     "end_time": "2025-03-14T05:19:31.422387Z",
     "start_time": "2025-03-14T05:19:31.416385Z"
    }
   },
   "cell_type": "code",
   "source": [
    "#lets check the outliers once again starting with Target feature\n",
    "target_col = \"vomitoxin_ppb\"\n",
    "Q1 = df_1[target_col].quantile(0.25)\n",
    "Q3 = df_1[target_col].quantile(0.75)\n",
    "IQR = Q3 - Q1\n",
    "lower_bound = Q1 - 1.5 * IQR\n",
    "upper_bound = Q3 + 1.5 * IQR\n",
    "outliers = df_1[(df_1[target_col] < lower_bound) | (df_1[target_col] > upper_bound)]\n",
    "print(f\"Number of outliers in target feature: {outliers.shape[0]}\")"
   ],
   "id": "6b6b69f9053487c4",
   "outputs": [
    {
     "name": "stdout",
     "output_type": "stream",
     "text": [
      "Number of outliers in target feature: 80\n"
     ]
    }
   ],
   "execution_count": 22
  },
  {
   "metadata": {
    "ExecuteTime": {
     "end_time": "2025-03-14T05:19:31.499128Z",
     "start_time": "2025-03-14T05:19:31.422893Z"
    }
   },
   "cell_type": "code",
   "source": [
    "plt.figure(figsize=(8, 5))\n",
    "sns.boxplot(x=df_1[target_col], color=\"red\")\n",
    "plt.title(\"Boxplot of DON Concentration (Target Feature)\")\n",
    "plt.show()"
   ],
   "id": "bde4db44477f766d",
   "outputs": [
    {
     "data": {
      "text/plain": [
       "<Figure size 800x500 with 1 Axes>"
      ],
      "image/png": "[encoded data removed]"
     },
     "metadata": {},
     "output_type": "display_data"
    }
   ],
   "execution_count": 23
  },
  {
   "metadata": {
    "ExecuteTime": {
     "end_time": "2025-03-14T05:19:31.770757Z",
     "start_time": "2025-03-14T05:19:31.500135Z"
    }
   },
   "cell_type": "code",
   "source": [
    "#We can simply remove the outliers but it can also lead to loss of information if some values are valid so to keep the information we will use Log transformation\n",
    "import numpy as np\n",
    "df_1[\"DON_Log\"] = np.log1p(df_1[\"vomitoxin_ppb\"] + 1e-5)\n",
    "plt.figure(figsize=(12, 5))\n",
    "# Original distribution\n",
    "plt.subplot(1, 2, 1)\n",
    "sns.histplot(df_1[\"vomitoxin_ppb\"], bins=50, kde=True, color=\"blue\")\n",
    "plt.title(\"Original Distribution of DON Concentration\")\n",
    "plt.xlabel(\"DON Concentration (ppb)\")\n",
    "# Transformed distribution\n",
    "plt.subplot(1, 2, 2)\n",
    "sns.histplot(df_1[\"DON_Log\"], bins=50, kde=True, color=\"green\")\n",
    "plt.title(\"Log-Transformed Distribution of DON Concentration\")\n",
    "plt.xlabel(\"Log(vomitoxin_ppb + 1)\")\n",
    "plt.show()"
   ],
   "id": "8a507e1b084f3d07",
   "outputs": [
    {
     "data": {
      "text/plain": [
       "<Figure size 1200x500 with 2 Axes>"
      ],
      "image/png": "[encoded data removed]"
     },
     "metadata": {},
     "output_type": "display_data"
    }
   ],
   "execution_count": 24
  },
  {
   "metadata": {
    "ExecuteTime": {
     "end_time": "2025-03-14T05:19:32.171631Z",
     "start_time": "2025-03-14T05:19:31.771764Z"
    }
   },
   "cell_type": "code",
   "source": [
    "from sklearn.preprocessing import StandardScaler\n",
    "spectral_features = df_1.columns[1:-1]\n",
    "scaler = StandardScaler()\n",
    "df_standardized = df_1.copy()\n",
    "df_standardized[spectral_features] = scaler.fit_transform(df_1[spectral_features])\n",
    "\n",
    "# Checking mean and std after standardization\n",
    "mean_std = df_standardized[spectral_features].agg([\"mean\", \"std\"])\n",
    "print(mean_std)\n",
    "\n",
    "# Visualizing the standardized data distribution\n",
    "plt.figure(figsize=(12, 6))\n",
    "sns.boxplot(data=df_standardized[spectral_features].iloc[:, :10])  # First 10 columns\n",
    "plt.xticks(rotation=45)\n",
    "plt.title(\"Boxplot of Standardized Spectral Features\", fontsize=14)\n",
    "plt.xlabel(\"Wavelength Index\")\n",
    "plt.ylabel(\"Standardized Reflectance\")\n",
    "plt.show()"
   ],
   "id": "f83399a9d343c195",
   "outputs": [
    {
     "name": "stdout",
     "output_type": "stream",
     "text": [
      "                 0             1             2             3             4  \\\n",
      "mean -8.135714e-16  2.984279e-16 -6.039613e-17 -7.034373e-16 -5.435652e-16   \n",
      "std   1.001002e+00  1.001002e+00  1.001002e+00  1.001002e+00  1.001002e+00   \n",
      "\n",
      "                 5             6             7             8             9  \\\n",
      "mean  2.447820e-15 -1.346478e-15 -1.222134e-15  9.592327e-17 -5.808687e-16   \n",
      "std   1.001002e+00  1.001002e+00  1.001002e+00  1.001002e+00  1.001002e+00   \n",
      "\n",
      "      ...           439           440           441           442  \\\n",
      "mean  ...  1.714184e-15  8.650858e-16 -9.201528e-16  4.124701e-15   \n",
      "std   ...  1.001002e+00  1.001002e+00  1.001002e+00  1.001002e+00   \n",
      "\n",
      "               443           444           445           446           447  \\\n",
      "mean -3.382183e-15  7.354117e-16  2.842171e-16 -2.984279e-16  3.254286e-15   \n",
      "std   1.001002e+00  1.001002e+00  1.001002e+00  1.001002e+00  1.001002e+00   \n",
      "\n",
      "      vomitoxin_ppb  \n",
      "mean   2.131628e-17  \n",
      "std    1.001002e+00  \n",
      "\n",
      "[2 rows x 449 columns]\n"
     ]
    },
    {
     "data": {
      "text/plain": [
       "<Figure size 1200x600 with 1 Axes>"
      ],
      "image/png": "[encoded data removed]"
     },
     "metadata": {},
     "output_type": "display_data"
    }
   ],
   "execution_count": 25
  },
  {
   "metadata": {
    "ExecuteTime": {
     "end_time": "2025-03-14T05:19:32.808929Z",
     "start_time": "2025-03-14T05:19:32.795518Z"
    }
   },
   "cell_type": "code",
   "source": "df_1",
   "id": "b19bb9b429613011",
   "outputs": [
    {
     "data": {
      "text/plain": [
       "               hsi_id         0         1         2         3         4  \\\n",
       "0      imagoai_corn_0  0.435629  0.414444  0.427745  0.388176  0.401791   \n",
       "1      imagoai_corn_1  0.436666  0.422707  0.422280  0.415160  0.416441   \n",
       "2      imagoai_corn_2  0.465379  0.447263  0.449186  0.449973  0.436943   \n",
       "3      imagoai_corn_3  0.452956  0.457461  0.446953  0.443269  0.445652   \n",
       "4      imagoai_corn_4  0.462015  0.465692  0.448703  0.466043  0.443896   \n",
       "..                ...       ...       ...       ...       ...       ...   \n",
       "495  imagoai_corn_495  0.486558  0.453317  0.451452  0.446922  0.438345   \n",
       "496  imagoai_corn_496  0.459521  0.443160  0.426482  0.420929  0.387791   \n",
       "497  imagoai_corn_497  0.451581  0.465413  0.464297  0.471717  0.454268   \n",
       "498  imagoai_corn_498  0.443909  0.477956  0.468262  0.432753  0.466829   \n",
       "499  imagoai_corn_499  0.480349  0.477289  0.455160  0.434058  0.439789   \n",
       "\n",
       "            5         6         7         8  ...       440       441  \\\n",
       "0    0.379987  0.368852  0.355843  0.357471  ...  0.765702  0.763068   \n",
       "1    0.408225  0.393046  0.380020  0.391102  ...  0.742652  0.747787   \n",
       "2    0.425406  0.409314  0.406221  0.404274  ...  0.750336  0.744127   \n",
       "3    0.443767  0.442106  0.411053  0.398434  ...  0.720041  0.726145   \n",
       "4    0.431826  0.438461  0.422104  0.408425  ...  0.733588  0.722729   \n",
       "..        ...       ...       ...       ...  ...       ...       ...   \n",
       "495  0.423303  0.427708  0.430272  0.423353  ...  0.732548  0.719327   \n",
       "496  0.397464  0.404858  0.384221  0.394613  ...  0.742694  0.745577   \n",
       "497  0.424362  0.429029  0.429594  0.410699  ...  0.725326  0.714159   \n",
       "498  0.441277  0.441000  0.426766  0.431332  ...  0.737489  0.729925   \n",
       "499  0.429890  0.425535  0.411123  0.405042  ...  0.735330  0.737716   \n",
       "\n",
       "          442       443       444       445       446       447  \\\n",
       "0    0.752443  0.742925  0.738655  0.759005  0.744008  0.751502   \n",
       "1    0.741354  0.746718  0.721070  0.742271  0.741861  0.733719   \n",
       "2    0.757330  0.757763  0.736777  0.739822  0.752068  0.746157   \n",
       "3    0.719270  0.741082  0.727888  0.731914  0.744364  0.722768   \n",
       "4    0.724658  0.723707  0.706398  0.735907  0.721792  0.713876   \n",
       "..        ...       ...       ...       ...       ...       ...   \n",
       "495  0.741088  0.726986  0.722753  0.742383  0.741886  0.724073   \n",
       "496  0.741987  0.725918  0.728442  0.740124  0.728692  0.728730   \n",
       "497  0.717001  0.716543  0.707733  0.715978  0.709466  0.741016   \n",
       "498  0.739666  0.738871  0.708352  0.731345  0.727440  0.734168   \n",
       "499  0.735002  0.726483  0.727806  0.717514  0.738535  0.728177   \n",
       "\n",
       "     vomitoxin_ppb   DON_Log  \n",
       "0           1100.0  7.003974  \n",
       "1           1000.0  6.908755  \n",
       "2           1300.0  7.170888  \n",
       "3           1300.0  7.170888  \n",
       "4            220.0  5.398163  \n",
       "..             ...       ...  \n",
       "495         1200.0  7.090910  \n",
       "496            0.0  0.000010  \n",
       "497            0.0  0.000010  \n",
       "498            0.0  0.000010  \n",
       "499         1400.0  7.244942  \n",
       "\n",
       "[500 rows x 451 columns]"
      ],
      "text/html": [
       "<div>\n",
       "<style scoped>\n",
       "    .dataframe tbody tr th:only-of-type {\n",
       "        vertical-align: middle;\n",
       "    }\n",
       "\n",
       "    .dataframe tbody tr th {\n",
       "        vertical-align: top;\n",
       "    }\n",
       "\n",
       "    .dataframe thead th {\n",
       "        text-align: right;\n",
       "    }\n",
       "</style>\n",
       "<table border=\"1\" class=\"dataframe\">\n",
       "  <thead>\n",
       "    <tr style=\"text-align: right;\">\n",
       "      <th></th>\n",
       "      <th>hsi_id</th>\n",
       "      <th>0</th>\n",
       "      <th>1</th>\n",
       "      <th>2</th>\n",
       "      <th>3</th>\n",
       "      <th>4</th>\n",
       "      <th>5</th>\n",
       "      <th>6</th>\n",
       "      <th>7</th>\n",
       "      <th>8</th>\n",
       "      <th>...</th>\n",
       "      <th>440</th>\n",
       "      <th>441</th>\n",
       "      <th>442</th>\n",
       "      <th>443</th>\n",
       "      <th>444</th>\n",
       "      <th>445</th>\n",
       "      <th>446</th>\n",
       "      <th>447</th>\n",
       "      <th>vomitoxin_ppb</th>\n",
       "      <th>DON_Log</th>\n",
       "    </tr>\n",
       "  </thead>\n",
       "  <tbody>\n",
       "    <tr>\n",
       "      <th>0</th>\n",
       "      <td>imagoai_corn_0</td>\n",
       "      <td>0.435629</td>\n",
       "      <td>0.414444</td>\n",
       "      <td>0.427745</td>\n",
       "      <td>0.388176</td>\n",
       "      <td>0.401791</td>\n",
       "      <td>0.379987</td>\n",
       "      <td>0.368852</td>\n",
       "      <td>0.355843</td>\n",
       "      <td>0.357471</td>\n",
       "      <td>...</td>\n",
       "      <td>0.765702</td>\n",
       "      <td>0.763068</td>\n",
       "      <td>0.752443</td>\n",
       "      <td>0.742925</td>\n",
       "      <td>0.738655</td>\n",
       "      <td>0.759005</td>\n",
       "      <td>0.744008</td>\n",
       "      <td>0.751502</td>\n",
       "      <td>1100.0</td>\n",
       "      <td>7.003974</td>\n",
       "    </tr>\n",
       "    <tr>\n",
       "      <th>1</th>\n",
       "      <td>imagoai_corn_1</td>\n",
       "      <td>0.436666</td>\n",
       "      <td>0.422707</td>\n",
       "      <td>0.422280</td>\n",
       "      <td>0.415160</td>\n",
       "      <td>0.416441</td>\n",
       "      <td>0.408225</td>\n",
       "      <td>0.393046</td>\n",
       "      <td>0.380020</td>\n",
       "      <td>0.391102</td>\n",
       "      <td>...</td>\n",
       "      <td>0.742652</td>\n",
       "      <td>0.747787</td>\n",
       "      <td>0.741354</td>\n",
       "      <td>0.746718</td>\n",
       "      <td>0.721070</td>\n",
       "      <td>0.742271</td>\n",
       "      <td>0.741861</td>\n",
       "      <td>0.733719</td>\n",
       "      <td>1000.0</td>\n",
       "      <td>6.908755</td>\n",
       "    </tr>\n",
       "    <tr>\n",
       "      <th>2</th>\n",
       "      <td>imagoai_corn_2</td>\n",
       "      <td>0.465379</td>\n",
       "      <td>0.447263</td>\n",
       "      <td>0.449186</td>\n",
       "      <td>0.449973</td>\n",
       "      <td>0.436943</td>\n",
       "      <td>0.425406</td>\n",
       "      <td>0.409314</td>\n",
       "      <td>0.406221</td>\n",
       "      <td>0.404274</td>\n",
       "      <td>...</td>\n",
       "      <td>0.750336</td>\n",
       "      <td>0.744127</td>\n",
       "      <td>0.757330</td>\n",
       "      <td>0.757763</td>\n",
       "      <td>0.736777</td>\n",
       "      <td>0.739822</td>\n",
       "      <td>0.752068</td>\n",
       "      <td>0.746157</td>\n",
       "      <td>1300.0</td>\n",
       "      <td>7.170888</td>\n",
       "    </tr>\n",
       "    <tr>\n",
       "      <th>3</th>\n",
       "      <td>imagoai_corn_3</td>\n",
       "      <td>0.452956</td>\n",
       "      <td>0.457461</td>\n",
       "      <td>0.446953</td>\n",
       "      <td>0.443269</td>\n",
       "      <td>0.445652</td>\n",
       "      <td>0.443767</td>\n",
       "      <td>0.442106</td>\n",
       "      <td>0.411053</td>\n",
       "      <td>0.398434</td>\n",
       "      <td>...</td>\n",
       "      <td>0.720041</td>\n",
       "      <td>0.726145</td>\n",
       "      <td>0.719270</td>\n",
       "      <td>0.741082</td>\n",
       "      <td>0.727888</td>\n",
       "      <td>0.731914</td>\n",
       "      <td>0.744364</td>\n",
       "      <td>0.722768</td>\n",
       "      <td>1300.0</td>\n",
       "      <td>7.170888</td>\n",
       "    </tr>\n",
       "    <tr>\n",
       "      <th>4</th>\n",
       "      <td>imagoai_corn_4</td>\n",
       "      <td>0.462015</td>\n",
       "      <td>0.465692</td>\n",
       "      <td>0.448703</td>\n",
       "      <td>0.466043</td>\n",
       "      <td>0.443896</td>\n",
       "      <td>0.431826</td>\n",
       "      <td>0.438461</td>\n",
       "      <td>0.422104</td>\n",
       "      <td>0.408425</td>\n",
       "      <td>...</td>\n",
       "      <td>0.733588</td>\n",
       "      <td>0.722729</td>\n",
       "      <td>0.724658</td>\n",
       "      <td>0.723707</td>\n",
       "      <td>0.706398</td>\n",
       "      <td>0.735907</td>\n",
       "      <td>0.721792</td>\n",
       "      <td>0.713876</td>\n",
       "      <td>220.0</td>\n",
       "      <td>5.398163</td>\n",
       "    </tr>\n",
       "    <tr>\n",
       "      <th>...</th>\n",
       "      <td>...</td>\n",
       "      <td>...</td>\n",
       "      <td>...</td>\n",
       "      <td>...</td>\n",
       "      <td>...</td>\n",
       "      <td>...</td>\n",
       "      <td>...</td>\n",
       "      <td>...</td>\n",
       "      <td>...</td>\n",
       "      <td>...</td>\n",
       "      <td>...</td>\n",
       "      <td>...</td>\n",
       "      <td>...</td>\n",
       "      <td>...</td>\n",
       "      <td>...</td>\n",
       "      <td>...</td>\n",
       "      <td>...</td>\n",
       "      <td>...</td>\n",
       "      <td>...</td>\n",
       "      <td>...</td>\n",
       "      <td>...</td>\n",
       "    </tr>\n",
       "    <tr>\n",
       "      <th>495</th>\n",
       "      <td>imagoai_corn_495</td>\n",
       "      <td>0.486558</td>\n",
       "      <td>0.453317</td>\n",
       "      <td>0.451452</td>\n",
       "      <td>0.446922</td>\n",
       "      <td>0.438345</td>\n",
       "      <td>0.423303</td>\n",
       "      <td>0.427708</td>\n",
       "      <td>0.430272</td>\n",
       "      <td>0.423353</td>\n",
       "      <td>...</td>\n",
       "      <td>0.732548</td>\n",
       "      <td>0.719327</td>\n",
       "      <td>0.741088</td>\n",
       "      <td>0.726986</td>\n",
       "      <td>0.722753</td>\n",
       "      <td>0.742383</td>\n",
       "      <td>0.741886</td>\n",
       "      <td>0.724073</td>\n",
       "      <td>1200.0</td>\n",
       "      <td>7.090910</td>\n",
       "    </tr>\n",
       "    <tr>\n",
       "      <th>496</th>\n",
       "      <td>imagoai_corn_496</td>\n",
       "      <td>0.459521</td>\n",
       "      <td>0.443160</td>\n",
       "      <td>0.426482</td>\n",
       "      <td>0.420929</td>\n",
       "      <td>0.387791</td>\n",
       "      <td>0.397464</td>\n",
       "      <td>0.404858</td>\n",
       "      <td>0.384221</td>\n",
       "      <td>0.394613</td>\n",
       "      <td>...</td>\n",
       "      <td>0.742694</td>\n",
       "      <td>0.745577</td>\n",
       "      <td>0.741987</td>\n",
       "      <td>0.725918</td>\n",
       "      <td>0.728442</td>\n",
       "      <td>0.740124</td>\n",
       "      <td>0.728692</td>\n",
       "      <td>0.728730</td>\n",
       "      <td>0.0</td>\n",
       "      <td>0.000010</td>\n",
       "    </tr>\n",
       "    <tr>\n",
       "      <th>497</th>\n",
       "      <td>imagoai_corn_497</td>\n",
       "      <td>0.451581</td>\n",
       "      <td>0.465413</td>\n",
       "      <td>0.464297</td>\n",
       "      <td>0.471717</td>\n",
       "      <td>0.454268</td>\n",
       "      <td>0.424362</td>\n",
       "      <td>0.429029</td>\n",
       "      <td>0.429594</td>\n",
       "      <td>0.410699</td>\n",
       "      <td>...</td>\n",
       "      <td>0.725326</td>\n",
       "      <td>0.714159</td>\n",
       "      <td>0.717001</td>\n",
       "      <td>0.716543</td>\n",
       "      <td>0.707733</td>\n",
       "      <td>0.715978</td>\n",
       "      <td>0.709466</td>\n",
       "      <td>0.741016</td>\n",
       "      <td>0.0</td>\n",
       "      <td>0.000010</td>\n",
       "    </tr>\n",
       "    <tr>\n",
       "      <th>498</th>\n",
       "      <td>imagoai_corn_498</td>\n",
       "      <td>0.443909</td>\n",
       "      <td>0.477956</td>\n",
       "      <td>0.468262</td>\n",
       "      <td>0.432753</td>\n",
       "      <td>0.466829</td>\n",
       "      <td>0.441277</td>\n",
       "      <td>0.441000</td>\n",
       "      <td>0.426766</td>\n",
       "      <td>0.431332</td>\n",
       "      <td>...</td>\n",
       "      <td>0.737489</td>\n",
       "      <td>0.729925</td>\n",
       "      <td>0.739666</td>\n",
       "      <td>0.738871</td>\n",
       "      <td>0.708352</td>\n",
       "      <td>0.731345</td>\n",
       "      <td>0.727440</td>\n",
       "      <td>0.734168</td>\n",
       "      <td>0.0</td>\n",
       "      <td>0.000010</td>\n",
       "    </tr>\n",
       "    <tr>\n",
       "      <th>499</th>\n",
       "      <td>imagoai_corn_499</td>\n",
       "      <td>0.480349</td>\n",
       "      <td>0.477289</td>\n",
       "      <td>0.455160</td>\n",
       "      <td>0.434058</td>\n",
       "      <td>0.439789</td>\n",
       "      <td>0.429890</td>\n",
       "      <td>0.425535</td>\n",
       "      <td>0.411123</td>\n",
       "      <td>0.405042</td>\n",
       "      <td>...</td>\n",
       "      <td>0.735330</td>\n",
       "      <td>0.737716</td>\n",
       "      <td>0.735002</td>\n",
       "      <td>0.726483</td>\n",
       "      <td>0.727806</td>\n",
       "      <td>0.717514</td>\n",
       "      <td>0.738535</td>\n",
       "      <td>0.728177</td>\n",
       "      <td>1400.0</td>\n",
       "      <td>7.244942</td>\n",
       "    </tr>\n",
       "  </tbody>\n",
       "</table>\n",
       "<p>500 rows × 451 columns</p>\n",
       "</div>"
      ]
     },
     "execution_count": 26,
     "metadata": {},
     "output_type": "execute_result"
    }
   ],
   "execution_count": 26
  },
  {
   "metadata": {
    "ExecuteTime": {
     "end_time": "2025-03-14T05:20:28.220651Z",
     "start_time": "2025-03-14T05:20:28.216525Z"
    }
   },
   "cell_type": "code",
   "source": "target_col = df_1.iloc[:, -1]",
   "id": "5c71aac587033c3e",
   "outputs": [],
   "execution_count": 27
  },
  {
   "metadata": {
    "ExecuteTime": {
     "end_time": "2025-03-14T05:20:29.086510Z",
     "start_time": "2025-03-14T05:20:28.832057Z"
    }
   },
   "cell_type": "code",
   "source": [
    "import pandas as pd\n",
    "import numpy as np\n",
    "import matplotlib.pyplot as plt\n",
    "from sklearn.decomposition import PCA\n",
    "from sklearn.preprocessing import StandardScaler\n",
    "features = df_1.iloc[:, 1:-1]\n",
    "target = df_1.iloc[:, -1]\n",
    "scaler = StandardScaler()\n",
    "features_scaled = scaler.fit_transform(features)\n",
    "pca = PCA(n_components=4)\n",
    "principal_components = pca.fit_transform(features_scaled)\n",
    "plt.figure(figsize=(10, 5))\n",
    "plt.plot(range(1, 5), np.cumsum(pca.explained_variance_ratio_), marker='o', linestyle='--', color='b')\n",
    "plt.xlabel('Number of Principal Components', fontsize=12)\n",
    "plt.ylabel('Cumulative Explained Variance', fontsize=12)\n",
    "plt.title('Explained Variance by PCA Components', fontsize=14)\n",
    "plt.grid()\n",
    "plt.show()\n",
    "pca_df = pd.DataFrame(principal_components, columns=[f'PC{i+1}' for i in range(4)])\n",
    "pca_df['Target'] = target\n",
    "print(pca_df.head())"
   ],
   "id": "d79e7c779ada686a",
   "outputs": [
    {
     "data": {
      "text/plain": [
       "<Figure size 1000x500 with 1 Axes>"
      ],
      "image/png": "[encoded data removed]"
     },
     "metadata": {},
     "output_type": "display_data"
    },
    {
     "name": "stdout",
     "output_type": "stream",
     "text": [
      "         PC1       PC2       PC3       PC4    Target\n",
      "0   1.639467 -7.568442  0.830519  1.105022  7.003974\n",
      "1  -2.619540 -3.106622  0.082333 -0.943346  6.908755\n",
      "2 -13.142801  6.418091 -3.909310 -3.964636  7.170888\n",
      "3   7.037341  2.313361  2.524736  3.148044  7.170888\n",
      "4   1.035692  8.801107 -1.498329  0.358982  5.398163\n"
     ]
    }
   ],
   "execution_count": 28
  },
  {
   "metadata": {},
   "cell_type": "raw",
   "source": [
    "we have used pca dimensionality reduction, and then we have also visualised the plot, and have found that the features after the 4th one, kinda almost exhibited the same variance levels.\n",
    "\n",
    "and on the target log transformation has been applied on the target variable, it was kinda sparse, and also there were a lt of zeros to actually deal with , in the target variable, and there is a difference in the scale between the target variable and the rest of the features, so inorder to bridge this gap the log transformation was applied on the target variable."
   ],
   "id": "8c420304ed0e8f2f"
  },
  {
   "metadata": {
    "ExecuteTime": {
     "end_time": "2025-03-14T05:20:32.090112Z",
     "start_time": "2025-03-14T05:20:32.086958Z"
    }
   },
   "cell_type": "code",
   "source": "pca_df[\"Target\"] = target",
   "id": "c1cdbe7deac09984",
   "outputs": [],
   "execution_count": 29
  },
  {
   "metadata": {
    "ExecuteTime": {
     "end_time": "2025-03-14T05:20:32.848380Z",
     "start_time": "2025-03-14T05:20:32.841993Z"
    }
   },
   "cell_type": "code",
   "source": "pca_df",
   "id": "1fd5d9d33b27b400",
   "outputs": [
    {
     "data": {
      "text/plain": [
       "           PC1       PC2       PC3       PC4    Target\n",
       "0     1.639467 -7.568442  0.830519  1.105022  7.003974\n",
       "1    -2.619540 -3.106622  0.082333 -0.943346  6.908755\n",
       "2   -13.142801  6.418091 -3.909310 -3.964636  7.170888\n",
       "3     7.037341  2.313361  2.524736  3.148044  7.170888\n",
       "4     1.035692  8.801107 -1.498329  0.358982  5.398163\n",
       "..         ...       ...       ...       ...       ...\n",
       "495   1.258505  5.354739  1.252892 -0.301232  7.090910\n",
       "496   2.167821 -2.467791 -4.060649 -3.034414  0.000010\n",
       "497  10.047907  6.174288  1.033906 -1.617312  0.000010\n",
       "498   5.345151  4.734563  3.693331  2.402814  0.000010\n",
       "499   2.925543  8.588006  0.820626 -1.117799  7.244942\n",
       "\n",
       "[500 rows x 5 columns]"
      ],
      "text/html": [
       "<div>\n",
       "<style scoped>\n",
       "    .dataframe tbody tr th:only-of-type {\n",
       "        vertical-align: middle;\n",
       "    }\n",
       "\n",
       "    .dataframe tbody tr th {\n",
       "        vertical-align: top;\n",
       "    }\n",
       "\n",
       "    .dataframe thead th {\n",
       "        text-align: right;\n",
       "    }\n",
       "</style>\n",
       "<table border=\"1\" class=\"dataframe\">\n",
       "  <thead>\n",
       "    <tr style=\"text-align: right;\">\n",
       "      <th></th>\n",
       "      <th>PC1</th>\n",
       "      <th>PC2</th>\n",
       "      <th>PC3</th>\n",
       "      <th>PC4</th>\n",
       "      <th>Target</th>\n",
       "    </tr>\n",
       "  </thead>\n",
       "  <tbody>\n",
       "    <tr>\n",
       "      <th>0</th>\n",
       "      <td>1.639467</td>\n",
       "      <td>-7.568442</td>\n",
       "      <td>0.830519</td>\n",
       "      <td>1.105022</td>\n",
       "      <td>7.003974</td>\n",
       "    </tr>\n",
       "    <tr>\n",
       "      <th>1</th>\n",
       "      <td>-2.619540</td>\n",
       "      <td>-3.106622</td>\n",
       "      <td>0.082333</td>\n",
       "      <td>-0.943346</td>\n",
       "      <td>6.908755</td>\n",
       "    </tr>\n",
       "    <tr>\n",
       "      <th>2</th>\n",
       "      <td>-13.142801</td>\n",
       "      <td>6.418091</td>\n",
       "      <td>-3.909310</td>\n",
       "      <td>-3.964636</td>\n",
       "      <td>7.170888</td>\n",
       "    </tr>\n",
       "    <tr>\n",
       "      <th>3</th>\n",
       "      <td>7.037341</td>\n",
       "      <td>2.313361</td>\n",
       "      <td>2.524736</td>\n",
       "      <td>3.148044</td>\n",
       "      <td>7.170888</td>\n",
       "    </tr>\n",
       "    <tr>\n",
       "      <th>4</th>\n",
       "      <td>1.035692</td>\n",
       "      <td>8.801107</td>\n",
       "      <td>-1.498329</td>\n",
       "      <td>0.358982</td>\n",
       "      <td>5.398163</td>\n",
       "    </tr>\n",
       "    <tr>\n",
       "      <th>...</th>\n",
       "      <td>...</td>\n",
       "      <td>...</td>\n",
       "      <td>...</td>\n",
       "      <td>...</td>\n",
       "      <td>...</td>\n",
       "    </tr>\n",
       "    <tr>\n",
       "      <th>495</th>\n",
       "      <td>1.258505</td>\n",
       "      <td>5.354739</td>\n",
       "      <td>1.252892</td>\n",
       "      <td>-0.301232</td>\n",
       "      <td>7.090910</td>\n",
       "    </tr>\n",
       "    <tr>\n",
       "      <th>496</th>\n",
       "      <td>2.167821</td>\n",
       "      <td>-2.467791</td>\n",
       "      <td>-4.060649</td>\n",
       "      <td>-3.034414</td>\n",
       "      <td>0.000010</td>\n",
       "    </tr>\n",
       "    <tr>\n",
       "      <th>497</th>\n",
       "      <td>10.047907</td>\n",
       "      <td>6.174288</td>\n",
       "      <td>1.033906</td>\n",
       "      <td>-1.617312</td>\n",
       "      <td>0.000010</td>\n",
       "    </tr>\n",
       "    <tr>\n",
       "      <th>498</th>\n",
       "      <td>5.345151</td>\n",
       "      <td>4.734563</td>\n",
       "      <td>3.693331</td>\n",
       "      <td>2.402814</td>\n",
       "      <td>0.000010</td>\n",
       "    </tr>\n",
       "    <tr>\n",
       "      <th>499</th>\n",
       "      <td>2.925543</td>\n",
       "      <td>8.588006</td>\n",
       "      <td>0.820626</td>\n",
       "      <td>-1.117799</td>\n",
       "      <td>7.244942</td>\n",
       "    </tr>\n",
       "  </tbody>\n",
       "</table>\n",
       "<p>500 rows × 5 columns</p>\n",
       "</div>"
      ]
     },
     "execution_count": 30,
     "metadata": {},
     "output_type": "execute_result"
    }
   ],
   "execution_count": 30
  },
  {
   "metadata": {
    "ExecuteTime": {
     "end_time": "2025-03-14T05:20:33.957832Z",
     "start_time": "2025-03-14T05:20:33.953832Z"
    }
   },
   "cell_type": "code",
   "source": "pca_df.columns",
   "id": "14c5fc11f56ce6ba",
   "outputs": [
    {
     "data": {
      "text/plain": [
       "Index(['PC1', 'PC2', 'PC3', 'PC4', 'Target'], dtype='object')"
      ]
     },
     "execution_count": 31,
     "metadata": {},
     "output_type": "execute_result"
    }
   ],
   "execution_count": 31
  },
  {
   "metadata": {
    "ExecuteTime": {
     "end_time": "2025-03-14T05:20:34.986298Z",
     "start_time": "2025-03-14T05:20:34.982363Z"
    }
   },
   "cell_type": "code",
   "source": [
    "from sklearn.model_selection import train_test_split\n",
    "y = pca_df.Target\n",
    "x = pca_df.drop(columns=['Target'])"
   ],
   "id": "a96f7152be3a95e3",
   "outputs": [],
   "execution_count": 32
  },
  {
   "metadata": {
    "ExecuteTime": {
     "end_time": "2025-03-14T05:20:35.683700Z",
     "start_time": "2025-03-14T05:20:35.677693Z"
    }
   },
   "cell_type": "code",
   "source": "x",
   "id": "9aede15dc166d067",
   "outputs": [
    {
     "data": {
      "text/plain": [
       "           PC1       PC2       PC3       PC4\n",
       "0     1.639467 -7.568442  0.830519  1.105022\n",
       "1    -2.619540 -3.106622  0.082333 -0.943346\n",
       "2   -13.142801  6.418091 -3.909310 -3.964636\n",
       "3     7.037341  2.313361  2.524736  3.148044\n",
       "4     1.035692  8.801107 -1.498329  0.358982\n",
       "..         ...       ...       ...       ...\n",
       "495   1.258505  5.354739  1.252892 -0.301232\n",
       "496   2.167821 -2.467791 -4.060649 -3.034414\n",
       "497  10.047907  6.174288  1.033906 -1.617312\n",
       "498   5.345151  4.734563  3.693331  2.402814\n",
       "499   2.925543  8.588006  0.820626 -1.117799\n",
       "\n",
       "[500 rows x 4 columns]"
      ],
      "text/html": [
       "<div>\n",
       "<style scoped>\n",
       "    .dataframe tbody tr th:only-of-type {\n",
       "        vertical-align: middle;\n",
       "    }\n",
       "\n",
       "    .dataframe tbody tr th {\n",
       "        vertical-align: top;\n",
       "    }\n",
       "\n",
       "    .dataframe thead th {\n",
       "        text-align: right;\n",
       "    }\n",
       "</style>\n",
       "<table border=\"1\" class=\"dataframe\">\n",
       "  <thead>\n",
       "    <tr style=\"text-align: right;\">\n",
       "      <th></th>\n",
       "      <th>PC1</th>\n",
       "      <th>PC2</th>\n",
       "      <th>PC3</th>\n",
       "      <th>PC4</th>\n",
       "    </tr>\n",
       "  </thead>\n",
       "  <tbody>\n",
       "    <tr>\n",
       "      <th>0</th>\n",
       "      <td>1.639467</td>\n",
       "      <td>-7.568442</td>\n",
       "      <td>0.830519</td>\n",
       "      <td>1.105022</td>\n",
       "    </tr>\n",
       "    <tr>\n",
       "      <th>1</th>\n",
       "      <td>-2.619540</td>\n",
       "      <td>-3.106622</td>\n",
       "      <td>0.082333</td>\n",
       "      <td>-0.943346</td>\n",
       "    </tr>\n",
       "    <tr>\n",
       "      <th>2</th>\n",
       "      <td>-13.142801</td>\n",
       "      <td>6.418091</td>\n",
       "      <td>-3.909310</td>\n",
       "      <td>-3.964636</td>\n",
       "    </tr>\n",
       "    <tr>\n",
       "      <th>3</th>\n",
       "      <td>7.037341</td>\n",
       "      <td>2.313361</td>\n",
       "      <td>2.524736</td>\n",
       "      <td>3.148044</td>\n",
       "    </tr>\n",
       "    <tr>\n",
       "      <th>4</th>\n",
       "      <td>1.035692</td>\n",
       "      <td>8.801107</td>\n",
       "      <td>-1.498329</td>\n",
       "      <td>0.358982</td>\n",
       "    </tr>\n",
       "    <tr>\n",
       "      <th>...</th>\n",
       "      <td>...</td>\n",
       "      <td>...</td>\n",
       "      <td>...</td>\n",
       "      <td>...</td>\n",
       "    </tr>\n",
       "    <tr>\n",
       "      <th>495</th>\n",
       "      <td>1.258505</td>\n",
       "      <td>5.354739</td>\n",
       "      <td>1.252892</td>\n",
       "      <td>-0.301232</td>\n",
       "    </tr>\n",
       "    <tr>\n",
       "      <th>496</th>\n",
       "      <td>2.167821</td>\n",
       "      <td>-2.467791</td>\n",
       "      <td>-4.060649</td>\n",
       "      <td>-3.034414</td>\n",
       "    </tr>\n",
       "    <tr>\n",
       "      <th>497</th>\n",
       "      <td>10.047907</td>\n",
       "      <td>6.174288</td>\n",
       "      <td>1.033906</td>\n",
       "      <td>-1.617312</td>\n",
       "    </tr>\n",
       "    <tr>\n",
       "      <th>498</th>\n",
       "      <td>5.345151</td>\n",
       "      <td>4.734563</td>\n",
       "      <td>3.693331</td>\n",
       "      <td>2.402814</td>\n",
       "    </tr>\n",
       "    <tr>\n",
       "      <th>499</th>\n",
       "      <td>2.925543</td>\n",
       "      <td>8.588006</td>\n",
       "      <td>0.820626</td>\n",
       "      <td>-1.117799</td>\n",
       "    </tr>\n",
       "  </tbody>\n",
       "</table>\n",
       "<p>500 rows × 4 columns</p>\n",
       "</div>"
      ]
     },
     "execution_count": 33,
     "metadata": {},
     "output_type": "execute_result"
    }
   ],
   "execution_count": 33
  },
  {
   "metadata": {
    "ExecuteTime": {
     "end_time": "2025-03-14T05:20:36.345127Z",
     "start_time": "2025-03-14T05:20:36.339220Z"
    }
   },
   "cell_type": "code",
   "source": "y",
   "id": "a1db96a43fdcce06",
   "outputs": [
    {
     "data": {
      "text/plain": [
       "0      7.003974\n",
       "1      6.908755\n",
       "2      7.170888\n",
       "3      7.170888\n",
       "4      5.398163\n",
       "         ...   \n",
       "495    7.090910\n",
       "496    0.000010\n",
       "497    0.000010\n",
       "498    0.000010\n",
       "499    7.244942\n",
       "Name: Target, Length: 500, dtype: float64"
      ]
     },
     "execution_count": 34,
     "metadata": {},
     "output_type": "execute_result"
    }
   ],
   "execution_count": 34
  },
  {
   "metadata": {
    "ExecuteTime": {
     "end_time": "2025-03-14T05:20:37.083680Z",
     "start_time": "2025-03-14T05:20:37.079676Z"
    }
   },
   "cell_type": "code",
   "source": "x_train, x_text, y_train, y_text = train_test_split(x, y, test_size=0.2, random_state=42)",
   "id": "2d46cda7f0dc21ea",
   "outputs": [],
   "execution_count": 35
  },
  {
   "metadata": {
    "ExecuteTime": {
     "end_time": "2025-03-14T05:20:37.929348Z",
     "start_time": "2025-03-14T05:20:37.925349Z"
    }
   },
   "cell_type": "code",
   "source": [
    "# Regression Models\n",
    "# Linear Regression (MLR)\n",
    "# Ridge Regression\n",
    "# Lasso Regression\n",
    "\n",
    "# Tree-Based Models\n",
    "# Decision Trees\n",
    "# Random Forest\n",
    "# Gradient Boosting Machines (GBM)\n",
    "# XGBoost\n",
    "# LightGBM\n",
    "\n",
    "# Deep Learning Models\n",
    "# Convolutional Neural Networks (CNN)\n",
    "# k-Nearest Neighbors (k-NN)\n",
    "\n"
   ],
   "id": "179b1f322cdedaff",
   "outputs": [],
   "execution_count": 36
  },
  {
   "metadata": {},
   "cell_type": "raw",
   "source": "",
   "id": "6950b5459906ac3b"
  },
  {
   "metadata": {
    "ExecuteTime": {
     "end_time": "2025-03-14T05:21:07.679351Z",
     "start_time": "2025-03-14T05:20:38.930699Z"
    }
   },
   "cell_type": "code",
   "source": [
    "import numpy as np\n",
    "from sklearn.metrics import make_scorer, mean_squared_error, mean_absolute_error, r2_score\n",
    "from sklearn.model_selection import GridSearchCV, train_test_split\n",
    "from sklearn.linear_model import Lasso, Ridge, LinearRegression\n",
    "from sklearn.tree import DecisionTreeRegressor\n",
    "from sklearn.ensemble import RandomForestRegressor\n",
    "\n",
    "def smape(y_true, y_pred):\n",
    "    denominator = (np.abs(y_true) + np.abs(y_pred)) / 2\n",
    "    diff = np.abs(y_true - y_pred) / denominator\n",
    "    diff = np.where(denominator == 0, 0, diff)  # Handle division by zero\n",
    "    return np.mean(diff) * 100\n",
    "smape_scorer = make_scorer(smape, greater_is_better=False)\n",
    "X = pca_df.drop(columns=['Target'])\n",
    "y = pca_df['Target']\n",
    "\n",
    "X_train, X_test, y_train, y_test = train_test_split(X, y, test_size=0.2, random_state=42)\n",
    "lasso_params = {\n",
    "    'alpha': [0.01, 0.1, 1, 10, 100]\n",
    "}\n",
    "lasso = GridSearchCV(Lasso(), param_grid=lasso_params, cv=5, scoring=smape_scorer)\n",
    "lasso.fit(X_train, y_train)\n",
    "\n",
    "y_pred_lasso = lasso.best_estimator_.predict(X_test)\n",
    "ridge_params = {\n",
    "    'alpha': [0.01, 0.1, 1, 10, 100]\n",
    "}\n",
    "ridge = GridSearchCV(Ridge(), param_grid=ridge_params, cv=5, scoring=smape_scorer)\n",
    "ridge.fit(X_train, y_train)\n",
    "\n",
    "y_pred_ridge = ridge.best_estimator_.predict(X_test)\n",
    "\n",
    "linear = LinearRegression()\n",
    "linear.fit(X_train, y_train)\n",
    "\n",
    "y_pred_linear = linear.predict(X_test)\n",
    "\n",
    "dt_params = {\n",
    "    'max_depth': [3, 5, 10, None],\n",
    "    'min_samples_split': [2, 5, 10],\n",
    "    'min_samples_leaf': [1, 2, 4]\n",
    "}\n",
    "dt = GridSearchCV(DecisionTreeRegressor(), param_grid=dt_params, cv=5, scoring=smape_scorer)\n",
    "dt.fit(X_train, y_train)\n",
    "\n",
    "y_pred_dt = dt.best_estimator_.predict(X_test)\n",
    "rf_params = {\n",
    "    'n_estimators': [10, 50, 100],\n",
    "    'max_depth': [3, 5, 10, None],\n",
    "    'min_samples_split': [2, 5, 10],\n",
    "    'min_samples_leaf': [1, 2, 4]\n",
    "}\n",
    "\n",
    "\n",
    "rf = GridSearchCV(RandomForestRegressor(), param_grid=rf_params, cv=5, scoring=smape_scorer)\n",
    "rf.fit(X_train, y_train)\n",
    "\n",
    "y_pred_rf = rf.best_estimator_.predict(X_test)\n",
    "def evaluate_model(name, y_test, y_pred):\n",
    "    mse = mean_squared_error(y_test, y_pred)\n",
    "    rmse = np.sqrt(mse)\n",
    "    mae = mean_absolute_error(y_test, y_pred)\n",
    "    smape_value = smape(y_test, y_pred)\n",
    "    r2 = r2_score(y_test, y_pred)\n",
    "    \n",
    "    print(f\"\\n{name} Results:\")\n",
    "    print(f\"MSE: {mse:.4f}\")\n",
    "    print(f\"RMSE: {rmse:.4f}\")\n",
    "    print(f\"MAE: {mae:.4f}\")\n",
    "    print(f\"SMAPE: {smape_value:.2f}%\")\n",
    "    print(f\"R²: {r2:.4f}\")\n",
    "\n",
    "evaluate_model(\"Lasso Regression\", y_test, y_pred_lasso)\n",
    "evaluate_model(\"Ridge Regression\", y_test, y_pred_ridge)\n",
    "evaluate_model(\"Linear Regression\", y_test, y_pred_linear)\n",
    "evaluate_model(\"Decision Tree\", y_test, y_pred_dt)\n",
    "evaluate_model(\"Random Forest\", y_test, y_pred_rf)\n",
    "\n",
    "print(\"\\nBest Lasso Parameters:\", lasso.best_params_)\n",
    "print(\"Best Ridge Parameters:\", ridge.best_params_)\n",
    "print(\"Best Decision Tree Parameters:\", dt.best_params_)\n",
    "print(\"Best Random Forest Parameters:\", rf.best_params_)"
   ],
   "id": "88b4100977e126e6",
   "outputs": [
    {
     "name": "stdout",
     "output_type": "stream",
     "text": [
      "\n",
      "Lasso Regression Results:\n",
      "MSE: 7.1510\n",
      "RMSE: 2.6741\n",
      "MAE: 1.9966\n",
      "SMAPE: 48.00%\n",
      "R²: 0.1192\n",
      "\n",
      "Ridge Regression Results:\n",
      "MSE: 6.2768\n",
      "RMSE: 2.5054\n",
      "MAE: 1.8539\n",
      "SMAPE: 47.56%\n",
      "R²: 0.2268\n",
      "\n",
      "Linear Regression Results:\n",
      "MSE: 6.2812\n",
      "RMSE: 2.5062\n",
      "MAE: 1.8554\n",
      "SMAPE: 47.61%\n",
      "R²: 0.2263\n",
      "\n",
      "Decision Tree Results:\n",
      "MSE: 6.7909\n",
      "RMSE: 2.6059\n",
      "MAE: 2.0321\n",
      "SMAPE: 52.70%\n",
      "R²: 0.1635\n",
      "\n",
      "Random Forest Results:\n",
      "MSE: 6.1843\n",
      "RMSE: 2.4868\n",
      "MAE: 1.8737\n",
      "SMAPE: 49.59%\n",
      "R²: 0.2382\n",
      "\n",
      "Best Lasso Parameters: {'alpha': 10}\n",
      "Best Ridge Parameters: {'alpha': 100}\n",
      "Best Decision Tree Parameters: {'max_depth': 3, 'min_samples_leaf': 4, 'min_samples_split': 5}\n",
      "Best Random Forest Parameters: {'max_depth': 3, 'min_samples_leaf': 1, 'min_samples_split': 5, 'n_estimators': 50}\n"
     ]
    }
   ],
   "execution_count": 37
  },
  {
   "metadata": {},
   "cell_type": "code",
   "outputs": [],
   "execution_count": null,
   "source": "",
   "id": "971c9b2f1b82991e"
  },
  {
   "metadata": {
    "ExecuteTime": {
     "end_time": "2025-03-14T05:21:14.882866Z",
     "start_time": "2025-03-14T05:21:13.885728Z"
    }
   },
   "cell_type": "code",
   "source": [
    "import numpy as np\n",
    "import pandas as pd\n",
    "from sklearn.metrics import make_scorer, mean_squared_error, mean_absolute_error, r2_score\n",
    "from sklearn.model_selection import GridSearchCV, train_test_split\n",
    "from sklearn.neighbors import KNeighborsRegressor\n",
    "\n",
    "def smape(y_true, y_pred):\n",
    "    denominator = (np.abs(y_true) + np.abs(y_pred)) / 2\n",
    "    diff = np.abs(y_true - y_pred) / denominator\n",
    "    diff = np.where(denominator == 0, 0, diff)  # Handle division by zero\n",
    "    return np.mean(diff) * 100\n",
    "\n",
    "smape_scorer = make_scorer(smape, greater_is_better=False)\n",
    "X = pca_df.drop(columns=['Target'])\n",
    "y = pca_df['Target']\n",
    "X_train, X_test, y_train, y_test = train_test_split(X, y, test_size=0.2, random_state=42)\n",
    "\n",
    "knn_params = {\n",
    "    'n_neighbors': [3, 5, 7, 10, 15, 17, 19, 21, 23, 25],\n",
    "    'weights': ['uniform', 'distance'],\n",
    "    'metric': ['euclidean', 'manhattan', 'minkowski']\n",
    "}\n",
    "\n",
    "knn = GridSearchCV(KNeighborsRegressor(), param_grid=knn_params, cv=5, scoring=smape_scorer)\n",
    "knn.fit(X_train, y_train)\n",
    "y_pred_knn = knn.best_estimator_.predict(X_test)\n",
    "\n",
    "def evaluate_model(name, y_test, y_pred):\n",
    "    mse = mean_squared_error(y_test, y_pred)\n",
    "    rmse = np.sqrt(mse)\n",
    "    mae = mean_absolute_error(y_test, y_pred)\n",
    "    smape_value = smape(y_test, y_pred)\n",
    "    r2 = r2_score(y_test, y_pred)\n",
    "    \n",
    "    print(f\"\\n{name} Results:\")\n",
    "    print(f\"MSE: {mse:.4f}\")\n",
    "    print(f\"RMSE: {rmse:.4f}\")\n",
    "    print(f\"MAE: {mae:.4f}\")\n",
    "    print(f\"SMAPE: {smape_value:.2f}%\")\n",
    "    print(f\"R²: {r2:.4f}\")\n",
    "\n",
    "evaluate_model(\"KNN Regression\", y_test, y_pred_knn)\n",
    "print(\"\\nBest KNN Parameters:\", knn.best_params_)"
   ],
   "id": "fa7873df23bc500a",
   "outputs": [
    {
     "name": "stdout",
     "output_type": "stream",
     "text": [
      "\n",
      "KNN Regression Results:\n",
      "MSE: 6.1307\n",
      "RMSE: 2.4760\n",
      "MAE: 1.8357\n",
      "SMAPE: 49.14%\n",
      "R²: 0.2448\n",
      "\n",
      "Best KNN Parameters: {'metric': 'euclidean', 'n_neighbors': 25, 'weights': 'distance'}\n"
     ]
    }
   ],
   "execution_count": 38
  },
  {
   "metadata": {
    "jupyter": {
     "is_executing": true
    },
    "ExecuteTime": {
     "start_time": "2025-03-14T04:29:20.458132Z"
    }
   },
   "cell_type": "code",
   "source": [
    "import tensorflow as tf\n",
    "from tensorflow.keras import layers, models\n",
    "import numpy as np\n",
    "\n",
    "# Sample data dimensions (example: 28x28 grayscale images)\n",
    "input_shape = (28, 28, 1)  # Height, Width, Channels\n",
    "num_classes = 10  # Example for classification (adjust as needed)\n",
    "\n",
    "# Create CNN model\n",
    "model = models.Sequential()\n",
    "\n",
    "# Input layer + Convolution Layer 1\n",
    "model.add(layers.Conv2D(32, kernel_size=(3, 3), activation='relu', input_shape=input_shape))\n",
    "# Sub-sampling Layer 1 (MaxPooling)\n",
    "model.add(layers.MaxPooling2D(pool_size=(2, 2)))\n",
    "\n",
    "# Convolution Layer 2\n",
    "model.add(layers.Conv2D(64, kernel_size=(3, 3), activation='relu'))\n",
    "# Sub-sampling Layer 2 (MaxPooling)\n",
    "model.add(layers.MaxPooling2D(pool_size=(2, 2)))\n",
    "\n",
    "# Flatten and Fully Connected Output Layer\n",
    "model.add(layers.Flatten())\n",
    "model.add(layers.Dense(128, activation='relu'))\n",
    "model.add(layers.Dense(num_classes, activation='softmax'))  # Output for classification\n",
    "\n",
    "# Compile model\n",
    "model.compile(optimizer='adam',\n",
    "              loss='categorical_crossentropy',\n",
    "              metrics=['accuracy'])\n",
    "\n",
    "# Summary of the model\n",
    "model.summary()\n",
    "\n",
    "# Example data (create random data for testing)\n",
    "X_train = np.random.rand(100, 28, 28, 1)\n",
    "y_train = np.random.randint(0, num_classes, 100)\n",
    "y_train = tf.keras.utils.to_categorical(y_train, num_classes)\n",
    "\n",
    "# Fit model\n",
    "model.fit(X_train, y_train, epochs=100, batch_size=32, validation_split=0.2)\n",
    "\n",
    "# Evaluate model\n",
    "loss, accuracy = model.evaluate(X_train, y_train)\n",
    "print(f\"\\nTest Loss: {loss:.4f}\")\n",
    "print(f\"Test Accuracy: {accuracy:.4f}\")"
   ],
   "id": "24f21115030ba5d0",
   "outputs": [],
   "execution_count": null
  },
  {
   "metadata": {
    "jupyter": {
     "is_executing": true
    },
    "ExecuteTime": {
     "start_time": "2025-03-14T04:29:56.523675Z"
    }
   },
   "cell_type": "code",
   "source": [
    "import tensorflow as tf\n",
    "from tensorflow.keras import layers, regularizers, Model\n",
    "import numpy as np\n",
    "\n",
    "# Sample data dimensions\n",
    "input_dim = 28 * 28  # Example for flattened 28x28 image\n",
    "latent_dim = 64  # Dimension of the encoded representation\n",
    "\n",
    "# Encoder\n",
    "input_layer = layers.Input(shape=(input_dim,))\n",
    "x = layers.Dense(256, activation='relu', kernel_regularizer=regularizers.l2(0.01))(input_layer)\n",
    "x = layers.Dense(128, activation='relu', kernel_regularizer=regularizers.l2(0.01))(x)\n",
    "encoded = layers.Dense(latent_dim, activation='relu', kernel_regularizer=regularizers.l2(0.01))(x)\n",
    "\n",
    "# Decoder\n",
    "x = layers.Dense(128, activation='relu', kernel_regularizer=regularizers.l2(0.01))(encoded)\n",
    "x = layers.Dense(256, activation='relu', kernel_regularizer=regularizers.l2(0.01))(x)\n",
    "decoded = layers.Dense(input_dim, activation='sigmoid')(x)  # Output size matches input size\n",
    "\n",
    "# Create autoencoder model\n",
    "autoencoder = Model(inputs=input_layer, outputs=decoded)\n",
    "\n",
    "# Compile model\n",
    "autoencoder.compile(optimizer='adam', loss='mse', metrics=['mae'])  # For regression task\n",
    "\n",
    "# Create example data (flattened 28x28 grayscale images)\n",
    "X_train = np.random.rand(1000, input_dim).astype(np.float32)  # 1000 samples\n",
    "X_test = np.random.rand(200, input_dim).astype(np.float32)     # 200 samples\n",
    "\n",
    "# Train model\n",
    "history = autoencoder.fit(\n",
    "    X_train, X_train,  # Use input as target for autoencoder\n",
    "    epochs=100,\n",
    "    batch_size=32,\n",
    "    validation_split=0.2\n",
    ")\n",
    "\n",
    "# Evaluate model\n",
    "loss, mae = autoencoder.evaluate(X_test, X_test)\n",
    "print(f\"\\nTest Loss: {loss:.4f}\")\n",
    "print(f\"Test MAE: {mae:.4f}\")\n",
    "\n",
    "# Print accuracy (simulated as 1 - normalized MAE)\n",
    "accuracy = (1 - mae / np.max(X_test)) * 100\n",
    "print(f\"Test Accuracy: {accuracy:.2f}%\")\n",
    "\n",
    "# Model summary\n",
    "autoencoder.summary()"
   ],
   "id": "4d0a099da393bfd5",
   "outputs": [],
   "execution_count": null
  },
  {
   "metadata": {
    "jupyter": {
     "is_executing": true
    },
    "ExecuteTime": {
     "start_time": "2025-03-14T04:30:58.778652Z"
    }
   },
   "cell_type": "code",
   "source": [
    "import tensorflow as tf\n",
    "from tensorflow.keras import layers, models, regularizers, optimizers\n",
    "\n",
    "# Sample data dimensions (example: 28x28 grayscale images)\n",
    "input_shape = (28, 28, 1)\n",
    "latent_dim = 128  # Increased latent dimension for richer representations\n",
    "\n",
    "# Encoder\n",
    "encoder = models.Sequential([\n",
    "    layers.Input(shape=input_shape),  # Changed input_shape → shape\n",
    "    layers.Conv2D(32, kernel_size=(3, 3), strides=(2, 2), padding='same'),\n",
    "    layers.LeakyReLU(),\n",
    "    layers.BatchNormalization(),\n",
    "\n",
    "    layers.Conv2D(64, kernel_size=(3, 3), strides=(2, 2), padding='same'),\n",
    "    layers.LeakyReLU(),\n",
    "    layers.BatchNormalization(),\n",
    "\n",
    "    layers.Conv2D(128, kernel_size=(3, 3), strides=(2, 2), padding='same'),\n",
    "    layers.LeakyReLU(),\n",
    "    layers.BatchNormalization(),\n",
    "\n",
    "    layers.Flatten(),\n",
    "    layers.Dense(latent_dim, activation='relu',\n",
    "                 kernel_regularizer=regularizers.l2(0.01))\n",
    "])\n",
    "\n",
    "# Decoder\n",
    "decoder = models.Sequential([\n",
    "    layers.Input(shape=(latent_dim,)),\n",
    "    layers.Dense(4 * 4 * 128, activation='relu'),\n",
    "    layers.Reshape((4, 4, 128)),\n",
    "\n",
    "    layers.Conv2DTranspose(128, kernel_size=(3, 3), strides=(2, 2), padding='same'),\n",
    "    layers.LeakyReLU(),\n",
    "    layers.BatchNormalization(),\n",
    "\n",
    "    layers.Conv2DTranspose(64, kernel_size=(3, 3), strides=(2, 2), padding='same'),\n",
    "    layers.LeakyReLU(),\n",
    "    layers.BatchNormalization(),\n",
    "\n",
    "    layers.Conv2DTranspose(32, kernel_size=(3, 3), strides=(2, 2), padding='same'),\n",
    "    layers.LeakyReLU(),\n",
    "    layers.BatchNormalization(),\n",
    "\n",
    "    layers.Conv2DTranspose(1, kernel_size=(3, 3), strides=(1, 1), padding='same', activation='sigmoid'),\n",
    "\n",
    "    # 🔥 Fix the size mismatch by cropping the output to (28, 28)\n",
    "    layers.Cropping2D(((2, 2), (2, 2)))  \n",
    "])\n",
    "\n",
    "# Full autoencoder\n",
    "inputs = layers.Input(shape=input_shape)\n",
    "latent = encoder(inputs)\n",
    "outputs = decoder(latent)\n",
    "\n",
    "autoencoder = models.Model(inputs, outputs)\n",
    "\n",
    "# Compile with reduced learning rate and Adam optimizer\n",
    "autoencoder.compile(optimizer=optimizers.Adam(learning_rate=1e-4), \n",
    "                    loss='mse', \n",
    "                    metrics=['mae'])\n",
    "\n",
    "autoencoder.summary()\n",
    "\n",
    "# Sample Data\n",
    "import numpy as np\n",
    "X_train = np.random.rand(100, 28, 28, 1)  # Training data\n",
    "X_test = np.random.rand(20, 28, 28, 1)    # Test data\n",
    "\n",
    "# Training with early stopping and learning rate reduction\n",
    "early_stopping = tf.keras.callbacks.EarlyStopping(monitor='val_loss', patience=5, restore_best_weights=True)\n",
    "reduce_lr = tf.keras.callbacks.ReduceLROnPlateau(monitor='val_loss', factor=0.5, patience=3, min_lr=1e-6)\n",
    "\n",
    "history = autoencoder.fit(X_train, X_train, epochs=200, batch_size=16,\n",
    "                          validation_split=0.2,\n",
    "                          callbacks=[early_stopping, reduce_lr])\n",
    "\n",
    "# Evaluate\n",
    "loss, mae = autoencoder.evaluate(X_test, X_test)\n",
    "accuracy = 100 * (1 - mae)  # Accuracy estimate from MAE\n",
    "\n",
    "print(f\"\\nTest Loss: {loss:.4f}\")\n",
    "print(f\"Test MAE: {mae:.4f}\")\n",
    "print(f\"Test Accuracy: {accuracy:.2f}%\")\n",
    "\n",
    "# Plot the training history\n",
    "import matplotlib.pyplot as plt\n",
    "\n",
    "plt.figure(figsize=(12, 5))\n",
    "plt.subplot(1, 2, 1)\n",
    "plt.plot(history.history['loss'], label='Training Loss')\n",
    "plt.plot(history.history['val_loss'], label='Validation Loss')\n",
    "plt.title('Loss Curve')\n",
    "plt.xlabel('Epochs')\n",
    "plt.ylabel('Loss')\n",
    "plt.legend()\n",
    "\n",
    "plt.subplot(1, 2, 2)\n",
    "plt.plot(history.history['mae'], label='Training MAE')\n",
    "plt.plot(history.history['val_mae'], label='Validation MAE')\n",
    "plt.title('MAE Curve')\n",
    "plt.xlabel('Epochs')\n",
    "plt.ylabel('MAE')\n",
    "plt.legend()\n",
    "\n",
    "plt.show()"
   ],
   "id": "e54e2a7adb880e64",
   "outputs": [],
   "execution_count": null
  },
  {
   "metadata": {
    "jupyter": {
     "is_executing": true
    },
    "ExecuteTime": {
     "start_time": "2025-03-14T04:31:54.284470Z"
    }
   },
   "cell_type": "code",
   "source": [
    "import tensorflow as tf\n",
    "from tensorflow.keras import layers, models, regularizers, optimizers\n",
    "\n",
    "# Sample data dimensions (example: 28x28 grayscale images)\n",
    "input_shape = (28, 28, 1)\n",
    "latent_dim = 128  # Increased latent dimension for richer representations\n",
    "l2_reg = 0.01  # L2 Regularization strength\n",
    "\n",
    "# Encoder with L2 regularization\n",
    "encoder = models.Sequential([\n",
    "    layers.Input(shape=input_shape),\n",
    "\n",
    "    layers.Conv2D(32, kernel_size=(3, 3), strides=(2, 2), padding='same',\n",
    "                  kernel_regularizer=regularizers.l2(l2_reg)),\n",
    "    layers.LeakyReLU(),\n",
    "    layers.BatchNormalization(),\n",
    "\n",
    "    layers.Conv2D(64, kernel_size=(3, 3), strides=(2, 2), padding='same',\n",
    "                  kernel_regularizer=regularizers.l2(l2_reg)),\n",
    "    layers.LeakyReLU(),\n",
    "    layers.BatchNormalization(),\n",
    "\n",
    "    layers.Conv2D(128, kernel_size=(3, 3), strides=(2, 2), padding='same',\n",
    "                  kernel_regularizer=regularizers.l2(l2_reg)),\n",
    "    layers.LeakyReLU(),\n",
    "    layers.BatchNormalization(),\n",
    "\n",
    "    layers.Flatten(),\n",
    "    layers.Dense(latent_dim, activation='relu',\n",
    "                 kernel_regularizer=regularizers.l2(l2_reg))\n",
    "])\n",
    "\n",
    "# Decoder with L2 regularization\n",
    "decoder = models.Sequential([\n",
    "    layers.Input(shape=(latent_dim,)),\n",
    "\n",
    "    layers.Dense(4 * 4 * 128, activation='relu',\n",
    "                 kernel_regularizer=regularizers.l2(l2_reg)),\n",
    "    layers.Reshape((4, 4, 128)),\n",
    "\n",
    "    layers.Conv2DTranspose(128, kernel_size=(3, 3), strides=(2, 2), padding='same',\n",
    "                           kernel_regularizer=regularizers.l2(l2_reg)),\n",
    "    layers.LeakyReLU(),\n",
    "    layers.BatchNormalization(),\n",
    "\n",
    "    layers.Conv2DTranspose(64, kernel_size=(3, 3), strides=(2, 2), padding='same',\n",
    "                           kernel_regularizer=regularizers.l2(l2_reg)),\n",
    "    layers.LeakyReLU(),\n",
    "    layers.BatchNormalization(),\n",
    "\n",
    "    layers.Conv2DTranspose(32, kernel_size=(3, 3), strides=(2, 2), padding='same',\n",
    "                           kernel_regularizer=regularizers.l2(l2_reg)),\n",
    "    layers.LeakyReLU(),\n",
    "    layers.BatchNormalization(),\n",
    "\n",
    "    layers.Conv2DTranspose(1, kernel_size=(3, 3), strides=(1, 1), padding='same',\n",
    "                           activation='sigmoid',\n",
    "                           kernel_regularizer=regularizers.l2(l2_reg)),\n",
    "\n",
    "    # Fix the size mismatch by cropping the output to (28, 28)\n",
    "    layers.Cropping2D(((2, 2), (2, 2)))\n",
    "])\n",
    "\n",
    "# Full autoencoder model\n",
    "inputs = layers.Input(shape=input_shape)\n",
    "latent = encoder(inputs)\n",
    "outputs = decoder(latent)\n",
    "\n",
    "autoencoder = models.Model(inputs, outputs)\n",
    "\n",
    "# Compile with reduced learning rate and Adam optimizer\n",
    "autoencoder.compile(optimizer=optimizers.Adam(learning_rate=1e-4), \n",
    "                    loss='mse', \n",
    "                    metrics=['mae'])\n",
    "\n",
    "autoencoder.summary()\n",
    "\n",
    "# Sample Data\n",
    "import numpy as np\n",
    "X_train = np.random.rand(100, 28, 28, 1)  # Training data\n",
    "X_test = np.random.rand(20, 28, 28, 1)    # Test data\n",
    "\n",
    "# Training with early stopping and learning rate reduction\n",
    "early_stopping = tf.keras.callbacks.EarlyStopping(\n",
    "    monitor='val_loss',\n",
    "    patience=5, \n",
    "    restore_best_weights=True\n",
    ")\n",
    "\n",
    "reduce_lr = tf.keras.callbacks.ReduceLROnPlateau(\n",
    "    monitor='val_loss', \n",
    "    factor=0.5, \n",
    "    patience=3, \n",
    "    min_lr=1e-6\n",
    ")\n",
    "\n",
    "history = autoencoder.fit(\n",
    "    X_train, X_train,\n",
    "    epochs=100,\n",
    "    batch_size=16,\n",
    "    validation_split=0.2,\n",
    "    callbacks=[early_stopping, reduce_lr]\n",
    ")\n",
    "\n",
    "# Evaluate the model\n",
    "loss, mae = autoencoder.evaluate(X_test, X_test)\n",
    "accuracy = 100 * (1 - mae)  # Accuracy estimate from MAE\n",
    "\n",
    "print(f\"\\nTest Loss: {loss:.4f}\")\n",
    "print(f\"Test MAE: {mae:.4f}\")\n",
    "print(f\"Test Accuracy: {accuracy:.2f}%\")\n",
    "\n",
    "# Plot the training history\n",
    "import matplotlib.pyplot as plt\n",
    "\n",
    "plt.figure(figsize=(12, 5))\n",
    "\n",
    "# Plot Loss Curve\n",
    "plt.subplot(1, 2, 1)\n",
    "plt.plot(history.history['loss'], label='Training Loss')\n",
    "plt.plot(history.history['val_loss'], label='Validation Loss')\n",
    "plt.title('Loss Curve')\n",
    "plt.xlabel('Epochs')\n",
    "plt.ylabel('Loss')\n",
    "plt.legend()\n",
    "\n",
    "# Plot MAE Curve\n",
    "plt.subplot(1, 2, 2)\n",
    "plt.plot(history.history['mae'], label='Training MAE')\n",
    "plt.plot(history.history['val_mae'], label='Validation MAE')\n",
    "plt.title('MAE Curve')\n",
    "plt.xlabel('Epochs')\n",
    "plt.ylabel('MAE')\n",
    "plt.legend()\n",
    "\n",
    "plt.show()"
   ],
   "id": "7e26dc2be10d6e13",
   "outputs": [],
   "execution_count": null
  },
  {
   "metadata": {
    "jupyter": {
     "is_executing": true
    },
    "ExecuteTime": {
     "start_time": "2025-03-14T04:31:54.287153Z"
    }
   },
   "cell_type": "code",
   "source": [
    "import tensorflow as tf\n",
    "from tensorflow.keras import layers, regularizers, Model\n",
    "import numpy as np\n",
    "\n",
    "# Sample data dimensions\n",
    "input_dim = 28 * 28\n",
    "latent_dim = 64\n",
    "\n",
    "# Encoder\n",
    "input_layer = layers.Input(shape=(input_dim,))\n",
    "x = layers.Dense(256, activation='relu', kernel_regularizer=regularizers.l2(0.05))(input_layer)\n",
    "x = layers.Dense(128, activation='relu', kernel_regularizer=regularizers.l2(0.05))(x)\n",
    "encoded = layers.Dense(latent_dim, activation='relu', kernel_regularizer=regularizers.l2(0.05))(x)\n",
    "\n",
    "# Decoder\n",
    "x = layers.Dense(128, activation='relu', kernel_regularizer=regularizers.l2(0.05))(encoded)\n",
    "x = layers.Dense(256, activation='relu', kernel_regularizer=regularizers.l2(0.05))(x)\n",
    "decoded = layers.Dense(input_dim, activation='sigmoid')(x)\n",
    "\n",
    "# Create autoencoder model\n",
    "autoencoder = Model(inputs=input_layer, outputs=decoded)\n",
    "\n",
    "# Compile model\n",
    "autoencoder.compile(optimizer='adam', loss='mse', metrics=['mae'])\n",
    "\n",
    "# Create example data + Add noise\n",
    "X_train = np.random.rand(1000, input_dim).astype(np.float32) + np.random.normal(0, 0.1, (1000, input_dim))\n",
    "X_test = np.random.rand(200, input_dim).astype(np.float32) + np.random.normal(0, 0.1, (200, input_dim))\n",
    "\n",
    "# Train model\n",
    "history = autoencoder.fit(\n",
    "    X_train, X_train,\n",
    "    epochs=100,\n",
    "    batch_size=32,\n",
    "    validation_split=0.1\n",
    ")\n",
    "\n",
    "# Evaluate model\n",
    "loss, mae = autoencoder.evaluate(X_test, X_test)\n",
    "print(f\"\\nTest Loss: {loss:.4f}\")\n",
    "print(f\"Test MAE: {mae:.4f}\")\n",
    "\n",
    "# Accuracy calculation\n",
    "accuracy = (1 - mae / np.max(X_test)) * 100\n",
    "print(f\"Test Accuracy: {accuracy:.2f}%\")\n",
    "\n",
    "# Plot training & validation loss\n",
    "plt.figure(figsize=(12, 5))\n",
    "plt.plot(history.history['loss'], label='Training Loss')\n",
    "plt.plot(history.history['val_loss'], label='Validation Loss')\n",
    "plt.title('Training and Validation Loss')\n",
    "plt.xlabel('Epochs')\n",
    "plt.ylabel('Loss')\n",
    "plt.legend()\n",
    "plt.grid()\n",
    "plt.show()\n",
    "\n",
    "# Plot training & validation MAE\n",
    "plt.figure(figsize=(12, 5))\n",
    "plt.plot(history.history['mae'], label='Training MAE')\n",
    "plt.plot(history.history['val_mae'], label='Validation MAE')\n",
    "plt.title('Training and Validation MAE')\n",
    "plt.xlabel('Epochs')\n",
    "plt.ylabel('Mean Absolute Error (MAE)')\n",
    "plt.legend()\n",
    "plt.grid()\n",
    "plt.show()\n",
    "\n",
    "\n",
    "# Model summary\n",
    "autoencoder.summary()\n"
   ],
   "id": "456937309b12d4dc",
   "outputs": [],
   "execution_count": null
  },
  {
   "metadata": {
    "jupyter": {
     "is_executing": true
    },
    "ExecuteTime": {
     "start_time": "2025-03-14T04:31:54.289756Z"
    }
   },
   "cell_type": "code",
   "source": [
    "import tensorflow as tf\n",
    "from tensorflow.keras import layers, regularizers, Model\n",
    "import numpy as np\n",
    "import matplotlib.pyplot as plt\n",
    "\n",
    "# Sample data dimensions\n",
    "timesteps = 28\n",
    "features = 28\n",
    "latent_dim = 64\n",
    "\n",
    "# Encoder\n",
    "input_layer = layers.Input(shape=(timesteps, features))\n",
    "x = layers.LSTM(128, activation='relu', kernel_regularizer=regularizers.l2(0.05), return_sequences=True)(input_layer)\n",
    "x = layers.LSTM(64, activation='relu', kernel_regularizer=regularizers.l2(0.05), return_sequences=False)(x)\n",
    "encoded = layers.Dense(latent_dim, activation='relu', kernel_regularizer=regularizers.l2(0.05))(x)\n",
    "\n",
    "# Decoder\n",
    "x = layers.RepeatVector(timesteps)(encoded)\n",
    "x = layers.LSTM(64, activation='relu', kernel_regularizer=regularizers.l2(0.05), return_sequences=True)(x)\n",
    "x = layers.LSTM(128, activation='relu', kernel_regularizer=regularizers.l2(0.05), return_sequences=True)(x)\n",
    "decoded = layers.TimeDistributed(layers.Dense(features, activation='sigmoid'))(x)\n",
    "\n",
    "# Create autoencoder model\n",
    "autoencoder = Model(inputs=input_layer, outputs=decoded)\n",
    "\n",
    "# Compile model\n",
    "autoencoder.compile(optimizer='adam', loss='mse', metrics=['mae'])\n",
    "\n",
    "# Create example data + Add noise\n",
    "X_train = np.random.rand(1000, timesteps, features).astype(np.float32) + np.random.normal(0, 0.1, (1000, timesteps, features))\n",
    "X_test = np.random.rand(200, timesteps, features).astype(np.float32) + np.random.normal(0, 0.1, (200, timesteps, features))\n",
    "\n",
    "# Train model\n",
    "history = autoencoder.fit(\n",
    "    X_train, X_train,\n",
    "    epochs=50,\n",
    "    batch_size=32,\n",
    "    validation_split=0.1,\n",
    "    verbose=1\n",
    ")\n",
    "\n",
    "# Evaluate model\n",
    "loss, mae = autoencoder.evaluate(X_test, X_test)\n",
    "print(f\"\\nTest Loss: {loss:.4f}\")\n",
    "print(f\"Test MAE: {mae:.4f}\")\n",
    "\n",
    "# Accuracy calculation\n",
    "accuracy = (1 - mae / np.max(X_test)) * 100\n",
    "print(f\"Test Accuracy: {accuracy:.2f}%\")\n",
    "\n",
    "# Plot training & validation loss\n",
    "plt.figure(figsize=(12, 5))\n",
    "plt.plot(history.history['loss'], label='Training Loss')\n",
    "plt.plot(history.history['val_loss'], label='Validation Loss')\n",
    "plt.title('Training and Validation Loss')\n",
    "plt.xlabel('Epochs')\n",
    "plt.ylabel('Loss')\n",
    "plt.legend()\n",
    "plt.grid()\n",
    "plt.show()\n",
    "\n",
    "# Plot training & validation MAE\n",
    "plt.figure(figsize=(12, 5))\n",
    "plt.plot(history.history['mae'], label='Training MAE')\n",
    "plt.plot(history.history['val_mae'], label='Validation MAE')\n",
    "plt.title('Training and Validation MAE')\n",
    "plt.xlabel('Epochs')\n",
    "plt.ylabel('Mean Absolute Error (MAE)')\n",
    "plt.legend()\n",
    "plt.grid()\n",
    "plt.show()\n",
    "\n",
    "# Model summary\n",
    "autoencoder.summary()"
   ],
   "id": "97fdb87ae6c6a352",
   "outputs": [],
   "execution_count": null
  },
  {
   "metadata": {
    "jupyter": {
     "is_executing": true
    },
    "ExecuteTime": {
     "start_time": "2025-03-14T04:31:54.293781Z"
    }
   },
   "cell_type": "code",
   "source": [
    "import numpy as np\n",
    "import matplotlib.pyplot as plt\n",
    "from tensorflow.keras import layers, Model, Input\n",
    "\n",
    "# Transformer Encoder Layer\n",
    "def transformer_encoder(inputs, head_size, num_heads, ff_dim, dropout=0):\n",
    "    x = layers.MultiHeadAttention(key_dim=head_size, num_heads=num_heads, dropout=dropout)(inputs, inputs)\n",
    "    x = layers.LayerNormalization(epsilon=1e-6)(x)\n",
    "    res = x + inputs\n",
    "\n",
    "    x = layers.Dense(ff_dim, activation=\"relu\")(res)\n",
    "    x = layers.Dense(inputs.shape[-1])(x)\n",
    "    x = layers.Dropout(dropout)(x)\n",
    "    x = layers.LayerNormalization(epsilon=1e-6)(x + res)\n",
    "    return x\n",
    "\n",
    "# Transformer Decoder Layer\n",
    "def transformer_decoder(inputs, encoder_output, head_size, num_heads, ff_dim, dropout=0):\n",
    "    x = layers.MultiHeadAttention(key_dim=head_size, num_heads=num_heads, dropout=dropout)(inputs, encoder_output)\n",
    "    x = layers.LayerNormalization(epsilon=1e-6)(x + inputs)\n",
    "\n",
    "    x = layers.Dense(ff_dim, activation=\"relu\")(x)\n",
    "    x = layers.Dense(inputs.shape[-1])(x)\n",
    "    x = layers.Dropout(dropout)(x)\n",
    "    x = layers.LayerNormalization(epsilon=1e-6)(x + inputs)\n",
    "    return x\n",
    "\n",
    "# Data dimensions\n",
    "timesteps = 28\n",
    "features = 28\n",
    "latent_dim = 64\n",
    "\n",
    "# Encoder\n",
    "input_layer = Input(shape=(timesteps, features))\n",
    "x = transformer_encoder(input_layer, head_size=64, num_heads=4, ff_dim=128)\n",
    "x = transformer_encoder(x, head_size=64, num_heads=4, ff_dim=128)\n",
    "\n",
    "# Pooling to reduce dimensions to (batch_size, latent_dim)\n",
    "x = layers.GlobalAveragePooling1D()(x)\n",
    "\n",
    "# Bottleneck Layer\n",
    "encoded = layers.Dense(latent_dim, activation='relu')(x)\n",
    "\n",
    "# Decoder\n",
    "x = layers.RepeatVector(timesteps)(encoded)  # Now the input is (batch_size, latent_dim) which is correct!\n",
    "x = transformer_decoder(x, x, head_size=64, num_heads=4, ff_dim=128)\n",
    "x = transformer_decoder(x, x, head_size=64, num_heads=4, ff_dim=128)\n",
    "\n",
    "# Output Layer\n",
    "decoded = layers.TimeDistributed(layers.Dense(features, activation='sigmoid'))(x)\n",
    "\n",
    "# Model\n",
    "autoencoder = Model(inputs=input_layer, outputs=decoded)\n",
    "autoencoder.compile(optimizer='adam', loss='mse', metrics=['mae'])\n",
    "\n",
    "# Sample Data\n",
    "X_train = np.random.rand(1000, timesteps, features).astype(np.float32) + np.random.normal(0, 0.1, (1000, timesteps, features))\n",
    "X_test = np.random.rand(200, timesteps, features).astype(np.float32) + np.random.normal(0, 0.1, (200, timesteps, features))\n",
    "\n",
    "# Train\n",
    "history = autoencoder.fit(X_train, X_train, epochs=10, batch_size=32, validation_split=0.2, verbose=1)\n",
    "\n",
    "# Evaluate\n",
    "loss, mae = autoencoder.evaluate(X_test, X_test)\n",
    "print(f\"\\nTest Loss: {loss:.4f}\")\n",
    "print(f\"Test MAE: {mae:.4f}\")\n",
    "\n",
    "# Plot Loss\n",
    "plt.plot(history.history['loss'], label='Training Loss')\n",
    "plt.plot(history.history['val_loss'], label='Validation Loss')\n",
    "plt.legend()\n",
    "plt.show()\n",
    "\n",
    "# Plot MAE\n",
    "plt.plot(history.history['mae'], label='Training MAE')\n",
    "plt.plot(history.history['val_mae'], label='Validation MAE')\n",
    "plt.legend()\n",
    "plt.show()\n",
    "\n",
    "# Summary\n",
    "autoencoder.summary()"
   ],
   "id": "fa162aa49211557f",
   "outputs": [],
   "execution_count": null
  },
  {
   "metadata": {
    "jupyter": {
     "is_executing": true
    },
    "ExecuteTime": {
     "start_time": "2025-03-14T04:31:54.297046Z"
    }
   },
   "cell_type": "code",
   "source": [
    "import tensorflow as tf\n",
    "from tensorflow.keras import layers, regularizers, Model\n",
    "import numpy as np\n",
    "import matplotlib.pyplot as plt\n",
    "\n",
    "# Sample data dimensions\n",
    "timesteps = 28\n",
    "features = 28\n",
    "channels = 1\n",
    "input_shape = (timesteps, features, channels)\n",
    "\n",
    "# Input layer\n",
    "input_layer = layers.Input(shape=input_shape)\n",
    "\n",
    "# Branch 1\n",
    "x1 = layers.Conv2D(32, (3, 3), activation='relu', kernel_regularizer=regularizers.l2(0.05), padding='same')(input_layer)\n",
    "x1 = layers.Conv2D(64, (3, 3), activation='relu', kernel_regularizer=regularizers.l2(0.05), padding='same')(x1)\n",
    "x1 = layers.MaxPooling2D((2, 2))(x1)\n",
    "\n",
    "# Branch 2\n",
    "x2 = layers.Conv2D(32, (5, 5), activation='relu', kernel_regularizer=regularizers.l2(0.05), padding='same')(input_layer)\n",
    "x2 = layers.Conv2D(64, (5, 5), activation='relu', kernel_regularizer=regularizers.l2(0.05), padding='same')(x2)\n",
    "x2 = layers.MaxPooling2D((2, 2))(x2)\n",
    "\n",
    "# Merge branches\n",
    "merged = layers.Concatenate()([x1, x2])\n",
    "x = layers.Flatten()(merged)\n",
    "x = layers.Dense(128, activation='relu', kernel_regularizer=regularizers.l2(0.05))(x)\n",
    "x = layers.Dropout(0.3)(x)\n",
    "output = layers.Dense(timesteps * features, activation='sigmoid')(x)\n",
    "output = layers.Reshape((timesteps, features))(output)\n",
    "\n",
    "# Create 2BCNN model\n",
    "model = Model(inputs=input_layer, outputs=output)\n",
    "\n",
    "# Compile model\n",
    "model.compile(optimizer='adam', loss='mse', metrics=['mae'])\n",
    "\n",
    "# Create example data + Add noise\n",
    "X_train = np.random.rand(1000, timesteps, features).astype(np.float32) + np.random.normal(0, 0.1, (1000, timesteps, features))\n",
    "X_test = np.random.rand(200, timesteps, features).astype(np.float32) + np.random.normal(0, 0.1, (200, timesteps, features))\n",
    "\n",
    "# Reshape to match CNN input shape (add channel dimension)\n",
    "X_train = X_train.reshape(-1, timesteps, features, 1)\n",
    "X_test = X_test.reshape(-1, timesteps, features, 1)\n",
    "\n",
    "# Train model\n",
    "history = model.fit(\n",
    "    X_train, X_train.reshape(-1, timesteps, features),\n",
    "    epochs=50,\n",
    "    batch_size=32,\n",
    "    validation_split=0.1,\n",
    "    verbose=1\n",
    ")\n",
    "\n",
    "# Evaluate model\n",
    "loss, mae = model.evaluate(X_test, X_test.reshape(-1, timesteps, features))\n",
    "print(f\"\\nTest Loss: {loss:.4f}\")\n",
    "print(f\"Test MAE: {mae:.4f}\")\n",
    "\n",
    "# Accuracy calculation\n",
    "accuracy = (1 - mae / np.max(X_test)) * 100\n",
    "print(f\"Test Accuracy: {accuracy:.2f}%\")\n",
    "\n",
    "# Plot training & validation loss\n",
    "plt.figure(figsize=(12, 5))\n",
    "plt.plot(history.history['loss'], label='Training Loss')\n",
    "plt.plot(history.history['val_loss'], label='Validation Loss')\n",
    "plt.title('Training and Validation Loss')\n",
    "plt.xlabel('Epochs')\n",
    "plt.ylabel('Loss')\n",
    "plt.legend()\n",
    "plt.grid()\n",
    "plt.show()\n",
    "\n",
    "# Plot training & validation MAE\n",
    "plt.figure(figsize=(12, 5))\n",
    "plt.plot(history.history['mae'], label='Training MAE')\n",
    "plt.plot(history.history['val_mae'], label='Validation MAE')\n",
    "plt.title('Training and Validation MAE')\n",
    "plt.xlabel('Epochs')\n",
    "plt.ylabel('Mean Absolute Error (MAE)')\n",
    "plt.legend()\n",
    "plt.grid()\n",
    "plt.show()\n",
    "\n",
    "# Model summary\n",
    "model.summary()\n"
   ],
   "id": "89c258afec762d95",
   "outputs": [],
   "execution_count": null
  },
  {
   "metadata": {
    "jupyter": {
     "is_executing": true
    },
    "ExecuteTime": {
     "start_time": "2025-03-14T04:31:54.298146Z"
    }
   },
   "cell_type": "code",
   "source": "",
   "id": "e48afc6c62d4bbdd",
   "outputs": [],
   "execution_count": null
  },
  {
   "metadata": {
    "jupyter": {
     "is_executing": true
    },
    "ExecuteTime": {
     "start_time": "2025-03-14T04:31:54.302043Z"
    }
   },
   "cell_type": "code",
   "source": "",
   "id": "5e0723b570217453",
   "outputs": [],
   "execution_count": null
  },
  {
   "metadata": {
    "jupyter": {
     "is_executing": true
    },
    "ExecuteTime": {
     "start_time": "2025-03-14T04:31:54.306051Z"
    }
   },
   "cell_type": "code",
   "source": "",
   "id": "5cf2b5ff4b06933",
   "outputs": [],
   "execution_count": null
  },
  {
   "metadata": {
    "jupyter": {
     "is_executing": true
    },
    "ExecuteTime": {
     "start_time": "2025-03-14T04:31:54.308251Z"
    }
   },
   "cell_type": "code",
   "source": "",
   "id": "3040e82106173573",
   "outputs": [],
   "execution_count": null
  },
  {
   "metadata": {
    "jupyter": {
     "is_executing": true
    },
    "ExecuteTime": {
     "start_time": "2025-03-14T04:31:54.311920Z"
    }
   },
   "cell_type": "code",
   "source": "",
   "id": "732d0c675cf5dd64",
   "outputs": [],
   "execution_count": null
  },
  {
   "metadata": {
    "jupyter": {
     "is_executing": true
    },
    "ExecuteTime": {
     "start_time": "2025-03-14T04:31:54.314914Z"
    }
   },
   "cell_type": "code",
   "source": "",
   "id": "a32777c64a9ee60f",
   "outputs": [],
   "execution_count": null
  },
  {
   "metadata": {
    "jupyter": {
     "is_executing": true
    },
    "ExecuteTime": {
     "start_time": "2025-03-14T04:31:54.320282Z"
    }
   },
   "cell_type": "code",
   "source": "",
   "id": "da4f82ece85cf9ca",
   "outputs": [],
   "execution_count": null
  },
  {
   "metadata": {
    "jupyter": {
     "is_executing": true
    },
    "ExecuteTime": {
     "start_time": "2025-03-14T04:31:54.324270Z"
    }
   },
   "cell_type": "code",
   "source": "",
   "id": "91749c831ef7092f",
   "outputs": [],
   "execution_count": null
  },
  {
   "metadata": {
    "jupyter": {
     "is_executing": true
    },
    "ExecuteTime": {
     "start_time": "2025-03-14T04:31:54.330020Z"
    }
   },
   "cell_type": "code",
   "source": "",
   "id": "4f25d5d5b9b30b6d",
   "outputs": [],
   "execution_count": null
  },
  {
   "metadata": {
    "jupyter": {
     "is_executing": true
    },
    "ExecuteTime": {
     "start_time": "2025-03-14T04:31:54.333496Z"
    }
   },
   "cell_type": "code",
   "source": "",
   "id": "698b923a2658c1bb",
   "outputs": [],
   "execution_count": null
  },
  {
   "metadata": {
    "jupyter": {
     "is_executing": true
    },
    "ExecuteTime": {
     "start_time": "2025-03-14T04:31:54.337646Z"
    }
   },
   "cell_type": "code",
   "source": "",
   "id": "352af8687a65d41a",
   "outputs": [],
   "execution_count": null
  },
  {
   "metadata": {
    "jupyter": {
     "is_executing": true
    },
    "ExecuteTime": {
     "start_time": "2025-03-14T04:31:54.341066Z"
    }
   },
   "cell_type": "code",
   "source": "",
   "id": "cc84c5286fb5488d",
   "outputs": [],
   "execution_count": null
  },
  {
   "metadata": {
    "jupyter": {
     "is_executing": true
    },
    "ExecuteTime": {
     "start_time": "2025-03-14T04:31:54.343106Z"
    }
   },
   "cell_type": "code",
   "source": "",
   "id": "ecc0381032064",
   "outputs": [],
   "execution_count": null
  },
  {
   "metadata": {
    "jupyter": {
     "is_executing": true
    },
    "ExecuteTime": {
     "start_time": "2025-03-14T04:31:54.346108Z"
    }
   },
   "cell_type": "code",
   "source": "",
   "id": "e3160e4c27b0e552",
   "outputs": [],
   "execution_count": null
  },
  {
   "metadata": {
    "jupyter": {
     "is_executing": true
    },
    "ExecuteTime": {
     "start_time": "2025-03-14T04:31:54.347763Z"
    }
   },
   "cell_type": "code",
   "source": "",
   "id": "ce27d81fdf6694cf",
   "outputs": [],
   "execution_count": null
  },
  {
   "metadata": {
    "jupyter": {
     "is_executing": true
    },
    "ExecuteTime": {
     "start_time": "2025-03-14T04:31:54.350705Z"
    }
   },
   "cell_type": "code",
   "source": "",
   "id": "c2de4c16eb0abb8d",
   "outputs": [],
   "execution_count": null
  },
  {
   "metadata": {
    "jupyter": {
     "is_executing": true
    },
    "ExecuteTime": {
     "start_time": "2025-03-14T04:31:54.352747Z"
    }
   },
   "cell_type": "code",
   "source": "",
   "id": "24eca6aba8ed36e7",
   "outputs": [],
   "execution_count": null
  },
  {
   "metadata": {
    "jupyter": {
     "is_executing": true
    },
    "ExecuteTime": {
     "start_time": "2025-03-14T04:31:54.356288Z"
    }
   },
   "cell_type": "code",
   "source": "",
   "id": "3fec0b30105b7198",
   "outputs": [],
   "execution_count": null
  },
  {
   "metadata": {
    "jupyter": {
     "is_executing": true
    },
    "ExecuteTime": {
     "start_time": "2025-03-14T04:31:54.357241Z"
    }
   },
   "cell_type": "code",
   "source": "",
   "id": "6b692434d7fada5d",
   "outputs": [],
   "execution_count": null
  },
  {
   "metadata": {
    "jupyter": {
     "is_executing": true
    },
    "ExecuteTime": {
     "start_time": "2025-03-14T04:31:54.360885Z"
    }
   },
   "cell_type": "code",
   "source": "",
   "id": "cbc330101079b048",
   "outputs": [],
   "execution_count": null
  },
  {
   "metadata": {
    "jupyter": {
     "is_executing": true
    },
    "ExecuteTime": {
     "start_time": "2025-03-14T04:31:54.364814Z"
    }
   },
   "cell_type": "code",
   "source": "",
   "id": "3097b292c26d9a01",
   "outputs": [],
   "execution_count": null
  },
  {
   "metadata": {
    "jupyter": {
     "is_executing": true
    },
    "ExecuteTime": {
     "start_time": "2025-03-14T04:31:54.368318Z"
    }
   },
   "cell_type": "code",
   "source": "",
   "id": "5ea8d1c738e0dab1",
   "outputs": [],
   "execution_count": null
  },
  {
   "metadata": {
    "jupyter": {
     "is_executing": true
    },
    "ExecuteTime": {
     "start_time": "2025-03-14T04:31:54.369358Z"
    }
   },
   "cell_type": "code",
   "source": "",
   "id": "23a4e5e7b5838e1b",
   "outputs": [],
   "execution_count": null
  },
  {
   "metadata": {
    "jupyter": {
     "is_executing": true
    },
    "ExecuteTime": {
     "start_time": "2025-03-14T04:31:54.372277Z"
    }
   },
   "cell_type": "code",
   "source": "",
   "id": "30a5f1887b27b28f",
   "outputs": [],
   "execution_count": null
  },
  {
   "metadata": {
    "jupyter": {
     "is_executing": true
    },
    "ExecuteTime": {
     "start_time": "2025-03-14T04:31:54.376454Z"
    }
   },
   "cell_type": "code",
   "source": "",
   "id": "fa3ccc1aaafaed83",
   "outputs": [],
   "execution_count": null
  },
  {
   "metadata": {
    "jupyter": {
     "is_executing": true
    },
    "ExecuteTime": {
     "start_time": "2025-03-14T04:31:54.378231Z"
    }
   },
   "cell_type": "code",
   "source": "",
   "id": "f93702a400773576",
   "outputs": [],
   "execution_count": null
  },
  {
   "metadata": {
    "jupyter": {
     "is_executing": true
    },
    "ExecuteTime": {
     "start_time": "2025-03-14T04:31:54.380859Z"
    }
   },
   "cell_type": "code",
   "source": "",
   "id": "2f8d338fdf8ef06d",
   "outputs": [],
   "execution_count": null
  },
  {
   "metadata": {
    "jupyter": {
     "is_executing": true
    },
    "ExecuteTime": {
     "start_time": "2025-03-14T04:31:54.381873Z"
    }
   },
   "cell_type": "code",
   "source": "",
   "id": "b715317fdecb0e9b",
   "outputs": [],
   "execution_count": null
  },
  {
   "metadata": {
    "jupyter": {
     "is_executing": true
    },
    "ExecuteTime": {
     "start_time": "2025-03-14T04:31:54.383818Z"
    }
   },
   "cell_type": "code",
   "source": "",
   "id": "2ff7398f3b386cb",
   "outputs": [],
   "execution_count": null
  },
  {
   "metadata": {
    "jupyter": {
     "is_executing": true
    },
    "ExecuteTime": {
     "start_time": "2025-03-14T04:31:54.386250Z"
    }
   },
   "cell_type": "code",
   "source": "",
   "id": "af222a28f7ec1d20",
   "outputs": [],
   "execution_count": null
  },
  {
   "metadata": {
    "jupyter": {
     "is_executing": true
    },
    "ExecuteTime": {
     "start_time": "2025-03-14T04:31:54.388598Z"
    }
   },
   "cell_type": "code",
   "source": "",
   "id": "a6677078a8997ac3",
   "outputs": [],
   "execution_count": null
  },
  {
   "metadata": {
    "jupyter": {
     "is_executing": true
    },
    "ExecuteTime": {
     "start_time": "2025-03-14T04:31:54.391604Z"
    }
   },
   "cell_type": "code",
   "source": "",
   "id": "ab096aa644406bb2",
   "outputs": [],
   "execution_count": null
  },
  {
   "metadata": {
    "jupyter": {
     "is_executing": true
    },
    "ExecuteTime": {
     "start_time": "2025-03-14T04:31:54.393696Z"
    }
   },
   "cell_type": "code",
   "source": "",
   "id": "ea544c70e475b021",
   "outputs": [],
   "execution_count": null
  },
  {
   "metadata": {
    "jupyter": {
     "is_executing": true
    },
    "ExecuteTime": {
     "start_time": "2025-03-14T04:31:54.394684Z"
    }
   },
   "cell_type": "code",
   "source": "",
   "id": "48e1dd3ce95c0f93",
   "outputs": [],
   "execution_count": null
  },
  {
   "metadata": {
    "jupyter": {
     "is_executing": true
    },
    "ExecuteTime": {
     "start_time": "2025-03-14T04:31:54.396280Z"
    }
   },
   "cell_type": "code",
   "source": "",
   "id": "51efc96b07e9a7ee",
   "outputs": [],
   "execution_count": null
  },
  {
   "metadata": {
    "jupyter": {
     "is_executing": true
    },
    "ExecuteTime": {
     "start_time": "2025-03-14T04:31:54.398608Z"
    }
   },
   "cell_type": "code",
   "source": "",
   "id": "f0d6ea2ae66ac293",
   "outputs": [],
   "execution_count": null
  },
  {
   "metadata": {
    "jupyter": {
     "is_executing": true
    },
    "ExecuteTime": {
     "start_time": "2025-03-14T04:31:54.400213Z"
    }
   },
   "cell_type": "code",
   "source": "",
   "id": "e27d75fc212dbb43",
   "outputs": [],
   "execution_count": null
  },
  {
   "metadata": {
    "jupyter": {
     "is_executing": true
    },
    "ExecuteTime": {
     "start_time": "2025-03-14T04:31:54.401324Z"
    }
   },
   "cell_type": "code",
   "source": "",
   "id": "27423e07f9645dc",
   "outputs": [],
   "execution_count": null
  },
  {
   "metadata": {
    "jupyter": {
     "is_executing": true
    },
    "ExecuteTime": {
     "start_time": "2025-03-14T04:31:54.404236Z"
    }
   },
   "cell_type": "code",
   "source": "",
   "id": "16b87db50a28af4d",
   "outputs": [],
   "execution_count": null
  },
  {
   "metadata": {
    "jupyter": {
     "is_executing": true
    },
    "ExecuteTime": {
     "start_time": "2025-03-14T04:31:54.405851Z"
    }
   },
   "cell_type": "code",
   "source": "",
   "id": "aa36d55fd467f7ce",
   "outputs": [],
   "execution_count": null
  },
  {
   "metadata": {
    "jupyter": {
     "is_executing": true
    },
    "ExecuteTime": {
     "start_time": "2025-03-14T04:31:54.408971Z"
    }
   },
   "cell_type": "code",
   "source": "",
   "id": "ddab75f302c054f5",
   "outputs": [],
   "execution_count": null
  },
  {
   "metadata": {
    "jupyter": {
     "is_executing": true
    },
    "ExecuteTime": {
     "start_time": "2025-03-14T04:31:54.411981Z"
    }
   },
   "cell_type": "code",
   "source": "",
   "id": "67119a74cccfc82",
   "outputs": [],
   "execution_count": null
  },
  {
   "metadata": {
    "jupyter": {
     "is_executing": true
    },
    "ExecuteTime": {
     "start_time": "2025-03-14T04:31:54.414870Z"
    }
   },
   "cell_type": "code",
   "source": "",
   "id": "b34b33eb03073126",
   "outputs": [],
   "execution_count": null
  },
  {
   "metadata": {
    "jupyter": {
     "is_executing": true
    },
    "ExecuteTime": {
     "start_time": "2025-03-14T04:31:54.417449Z"
    }
   },
   "cell_type": "code",
   "source": "",
   "id": "b5b865ccc2a5e5fa",
   "outputs": [],
   "execution_count": null
  },
  {
   "metadata": {
    "jupyter": {
     "is_executing": true
    },
    "ExecuteTime": {
     "start_time": "2025-03-14T04:31:54.420072Z"
    }
   },
   "cell_type": "code",
   "source": "",
   "id": "542ce2823b13b2d7",
   "outputs": [],
   "execution_count": null
  },
  {
   "metadata": {
    "jupyter": {
     "is_executing": true
    },
    "ExecuteTime": {
     "start_time": "2025-03-14T04:31:54.424199Z"
    }
   },
   "cell_type": "code",
   "source": "",
   "id": "c664b6fdd97963da",
   "outputs": [],
   "execution_count": null
  }
 ],
 "metadata": {
  "kernelspec": {
   "display_name": "Python 3",
   "language": "python",
   "name": "python3"
  },
  "language_info": {
   "codemirror_mode": {
    "name": "ipython",
    "version": 2
   },
   "file_extension": ".py",
   "mimetype": "text/x-python",
   "name": "python",
   "nbconvert_exporter": "python",
   "pygments_lexer": "ipython2",
   "version": "2.7.6"
  }
 },
 "nbformat": 4,
 "nbformat_minor": 5
}
